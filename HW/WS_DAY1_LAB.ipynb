{
  "cells": [
    {
      "cell_type": "markdown",
      "metadata": {
        "id": "view-in-github",
        "colab_type": "text"
      },
      "source": [
        "<a href=\"https://colab.research.google.com/github/ttaho/kb_it-s-your-life/blob/main/HW/WS_DAY1_LAB.ipynb\" target=\"_parent\"><img src=\"https://colab.research.google.com/assets/colab-badge.svg\" alt=\"Open In Colab\"/></a>"
      ]
    },
    {
      "cell_type": "markdown",
      "metadata": {
        "id": "n-39_ohVIYUU"
      },
      "source": [
        "### Q1\n",
        "- 아래의 값을 저장하고 있는 info 변수를 생성하세요.\n",
        "    - ['Park', '010-1234-5678', 'Seoul']\n",
        "- info의 두번째 값을 변수 phone에 저장하세요.\n",
        "    - 결과 : '010-1234-5678'\n",
        "- phone의 값을 '-'을 기준으로 분리하세요.\n",
        "    - 결과 : ['010', '1234', '5678']\n",
        "- 위의 리스트를 공백(' ')을 기준으로 연결하세요.\n",
        "    - 결과 : '010 1234 5678'"
      ]
    },
    {
      "cell_type": "code",
      "execution_count": 2,
      "metadata": {
        "ExecuteTime": {
          "end_time": "2022-02-11T06:47:17.399216Z",
          "start_time": "2022-02-11T06:47:17.382773Z"
        },
        "id": "d59NNECPIYUZ",
        "outputId": "38e74c20-0893-4251-eff7-cdbb308685f6",
        "colab": {
          "base_uri": "https://localhost:8080/",
          "height": 35
        }
      },
      "outputs": [
        {
          "output_type": "execute_result",
          "data": {
            "text/plain": [
              "'010-1234-5678'"
            ],
            "application/vnd.google.colaboratory.intrinsic+json": {
              "type": "string"
            }
          },
          "metadata": {},
          "execution_count": 2
        }
      ],
      "source": [
        "# 리스트를 생성하세요.\n",
        "info = ['Park', '010-1234-5678', 'Seoul']\n",
        "\n",
        "# 리스트의 두번째 값 저장하세요.\n",
        "phone = info[1]\n",
        "phone"
      ]
    },
    {
      "cell_type": "code",
      "execution_count": 4,
      "metadata": {
        "ExecuteTime": {
          "end_time": "2022-02-11T06:47:17.463562Z",
          "start_time": "2022-02-11T06:47:17.401382Z"
        },
        "id": "4Mz64BgeIYUc",
        "outputId": "5e35a3b4-c86f-4cf2-be81-1fefe24a9026",
        "colab": {
          "base_uri": "https://localhost:8080/"
        }
      },
      "outputs": [
        {
          "output_type": "execute_result",
          "data": {
            "text/plain": [
              "['010', '1234', '5678']"
            ]
          },
          "metadata": {},
          "execution_count": 4
        }
      ],
      "source": [
        "# '-'을 기준으로 분리하세요.  # 문자열\n",
        "phone = info[1].split('-')\n",
        "phone"
      ]
    },
    {
      "cell_type": "code",
      "execution_count": 6,
      "metadata": {
        "ExecuteTime": {
          "end_time": "2022-02-11T06:47:17.493935Z",
          "start_time": "2022-02-11T06:47:17.463562Z"
        },
        "id": "uWb4E1nTIYUd",
        "outputId": "658a0af4-ffbd-456e-f15f-9955e802b914",
        "colab": {
          "base_uri": "https://localhost:8080/",
          "height": 35
        }
      },
      "outputs": [
        {
          "output_type": "execute_result",
          "data": {
            "text/plain": [
              "'010 1234 5678'"
            ],
            "application/vnd.google.colaboratory.intrinsic+json": {
              "type": "string"
            }
          },
          "metadata": {},
          "execution_count": 6
        }
      ],
      "source": [
        "# 위의 결과를 공백(' ')을 기준으로 연결하세요.  # 문자열\n",
        "' '.join(phone)"
      ]
    },
    {
      "cell_type": "markdown",
      "metadata": {
        "id": "-dwTzlKcIYUd"
      },
      "source": [
        "<br/>\n",
        "<br/>\n",
        "<br/>\n",
        "<br/>"
      ]
    },
    {
      "cell_type": "markdown",
      "metadata": {
        "id": "9a27etyAIYUe"
      },
      "source": [
        "### Q2\n",
        "- 아래의 값을 저장하고 있는 myList 변수를 생성하세요.\n",
        "    - myList = [1, 3, 12, 7, 10, 9]\n",
        "- myList를 역순으로 출력하세요.\n",
        "    - 결과: [9, 10, 7, 12, 3, 1]\n",
        "- temp에 [1,3,2]를 저장하고, 아래와 같은 결과가 나오도록 출력하세요.\n",
        "    - 결과: [9, 10, 7, 12, 3, 1, 1, 2, 3]"
      ]
    },
    {
      "cell_type": "code",
      "execution_count": 11,
      "metadata": {
        "ExecuteTime": {
          "end_time": "2022-02-11T06:47:17.509919Z",
          "start_time": "2022-02-11T06:47:17.493935Z"
        },
        "id": "QyYzoleSIYUe",
        "outputId": "7e80d667-e7f0-473c-aae0-ee801b00d519",
        "colab": {
          "base_uri": "https://localhost:8080/"
        }
      },
      "outputs": [
        {
          "output_type": "execute_result",
          "data": {
            "text/plain": [
              "[9, 10, 7, 12, 3, 1]"
            ]
          },
          "metadata": {},
          "execution_count": 11
        }
      ],
      "source": [
        "# 리스트를 생성하세요.\n",
        "mylist = [1, 3, 12, 7, 10, 9]\n",
        "\n",
        "# 역순으로 출력하세요.\n",
        "mylist[::-1]"
      ]
    },
    {
      "cell_type": "code",
      "execution_count": 12,
      "metadata": {
        "ExecuteTime": {
          "end_time": "2022-02-11T06:47:17.525922Z",
          "start_time": "2022-02-11T06:47:17.509919Z"
        },
        "id": "6EASBtDwIYUf",
        "outputId": "4aef3bf7-9f5f-434b-94b6-2d6aea9d209a",
        "colab": {
          "base_uri": "https://localhost:8080/"
        }
      },
      "outputs": [
        {
          "output_type": "execute_result",
          "data": {
            "text/plain": [
              "[9, 10, 7, 12, 3, 1, 1, 3, 2]"
            ]
          },
          "metadata": {},
          "execution_count": 12
        }
      ],
      "source": [
        "# mylist와 temp를 사용하여 아래의 결과를 출력하세요.\n",
        "temp = [1, 3, 2]\n",
        "mylist.reverse()\n",
        "mylist+temp"
      ]
    },
    {
      "cell_type": "markdown",
      "metadata": {
        "id": "0ZiQPXrQIYUg"
      },
      "source": [
        "<br/>\n",
        "<br/>\n",
        "<br/>\n",
        "<br/>"
      ]
    },
    {
      "cell_type": "markdown",
      "metadata": {
        "id": "m4bcpOxmIYUh"
      },
      "source": [
        "### Q3\n",
        "- 아래의 값을 저장하고 있는 myList 변수를 생성하세요.\n",
        "    - myList = [[1,2,3], [4,5,6], [7,8]]\n",
        "- 결과와 같은 위치에 9를 추가하세요.\n",
        "    - 결과: [[1,2,3], [4,5,6], [7,8,9]]\n",
        "- 결과와 같은 위치에 [1,1,1]을 추가하세요.\n",
        "    - 결과: [[1,2,3], [1,1,1], [4,5,6], [7,8,9]]"
      ]
    },
    {
      "cell_type": "code",
      "execution_count": null,
      "metadata": {
        "ExecuteTime": {
          "end_time": "2022-02-11T06:47:17.549940Z",
          "start_time": "2022-02-11T06:47:17.525922Z"
        },
        "id": "EgWbZStqIYUi",
        "outputId": "09927dc2-ccf8-4095-8630-2e253c850d16",
        "colab": {
          "base_uri": "https://localhost:8080/"
        }
      },
      "outputs": [
        {
          "output_type": "execute_result",
          "data": {
            "text/plain": [
              "[[1, 2, 3], [4, 5, 6], [7, 8, 9]]"
            ]
          },
          "metadata": {},
          "execution_count": 33
        }
      ],
      "source": [
        "# 리스트를 생성하세요.\n",
        "myList = [[1,2,3],[4,5,6],[7,8]]\n",
        "\n",
        "# 9를 추가하세요.\n",
        "myList[2].append(9)\n",
        "\n",
        "myList"
      ]
    },
    {
      "cell_type": "code",
      "execution_count": null,
      "metadata": {
        "ExecuteTime": {
          "end_time": "2022-02-11T06:47:17.565936Z",
          "start_time": "2022-02-11T06:47:17.549940Z"
        },
        "id": "uNQq2oSlIYUi",
        "outputId": "c871a76e-5505-4b02-b61a-40c083d9a9b4",
        "colab": {
          "base_uri": "https://localhost:8080/"
        }
      },
      "outputs": [
        {
          "output_type": "execute_result",
          "data": {
            "text/plain": [
              "[[1, 2, 3], [1, 1, 1], [4, 5, 6], [7, 8, 9]]"
            ]
          },
          "metadata": {},
          "execution_count": 34
        }
      ],
      "source": [
        "# [1,1,1] 를 추가하세요.\n",
        "myList.insert(1,[1,1,1])\n",
        "\n",
        "myList"
      ]
    },
    {
      "cell_type": "markdown",
      "metadata": {
        "id": "2IMa6r1ZIYUj"
      },
      "source": [
        "<br/>\n",
        "<br/>\n",
        "<br/>\n",
        "<br/>"
      ]
    },
    {
      "cell_type": "markdown",
      "metadata": {
        "id": "ZQaQu8HxIYUj"
      },
      "source": [
        "### Q4\n",
        "- 아래의 각 리스트를 region1과 region2에 저장하세요.\n",
        "    - ['서울', '서울', '대구', '강릉', '제주', '제주', '대전']\n",
        "    - ['인천', '광주', '부산', '대전', '제주']\n",
        "- region1의 중복값을 제거하세요.\n",
        "    - 결과 : ['서울', '대구', '제주', '강릉', '대전']\n",
        "- region1과 region2의 공통 값을 구하세요.\n",
        "    - 결과 : ['제주', '대전']"
      ]
    },
    {
      "cell_type": "code",
      "execution_count": 18,
      "metadata": {
        "ExecuteTime": {
          "end_time": "2022-02-11T06:47:17.581926Z",
          "start_time": "2022-02-11T06:47:17.565936Z"
        },
        "id": "eaUiaf9bIYUj",
        "outputId": "493ee6c4-ac0c-481c-bd62-08c82bd50f55",
        "colab": {
          "base_uri": "https://localhost:8080/"
        }
      },
      "outputs": [
        {
          "output_type": "execute_result",
          "data": {
            "text/plain": [
              "['강릉', '대구', '제주', '대전', '서울']"
            ]
          },
          "metadata": {},
          "execution_count": 18
        }
      ],
      "source": [
        "# region1, region2 리스트를 생성하세요.\n",
        "region1 = ['서울', '서울', '대구', '강릉', '제주', '제주', '대전']\n",
        "region2 = ['인천', '광주', '부산', '대전', '제주']\n",
        "\n",
        "# region1의 중복값을 제거하세요.\n",
        "list(set(region1))"
      ]
    },
    {
      "cell_type": "code",
      "execution_count": 19,
      "metadata": {
        "ExecuteTime": {
          "end_time": "2022-02-11T06:47:17.597930Z",
          "start_time": "2022-02-11T06:47:17.581926Z"
        },
        "id": "9gWXlvtUIYUk",
        "outputId": "fddbf646-1a89-407f-ec37-053a6319704b",
        "colab": {
          "base_uri": "https://localhost:8080/"
        }
      },
      "outputs": [
        {
          "output_type": "execute_result",
          "data": {
            "text/plain": [
              "{'대전', '제주'}"
            ]
          },
          "metadata": {},
          "execution_count": 19
        }
      ],
      "source": [
        "# region1과 region2의 공통 값을 구하세요.\n",
        "region1=set(region1)\n",
        "region2=set(region2)\n",
        "\n",
        "region1.intersection(region2)"
      ]
    },
    {
      "cell_type": "markdown",
      "metadata": {
        "id": "pqJDr3pjIYUk"
      },
      "source": [
        "<br/>\n",
        "<br/>\n",
        "<br/>\n",
        "<br/>"
      ]
    },
    {
      "cell_type": "markdown",
      "metadata": {
        "id": "x8yEG6MqIYUl"
      },
      "source": [
        "### Q5\n",
        "- 학생들의 이름과 점수를 key와 value로 가지는 score 변수를 생성하세요.\n",
        "    - 하준 90점, 서윤 86점, 지아 80점\n",
        "- 서윤의 점수를 76점으로 수정하세요.\n",
        "- score 변수에서 지아를 삭제하세요.\n",
        "- score 변수에 민우 100점을 추가하세요."
      ]
    },
    {
      "cell_type": "code",
      "execution_count": 24,
      "metadata": {
        "ExecuteTime": {
          "end_time": "2022-02-11T06:47:17.614179Z",
          "start_time": "2022-02-11T06:47:17.597930Z"
        },
        "id": "KHpvXbL1IYUl",
        "outputId": "ad51dea0-8b32-4593-80a6-53fb18f8bbc0",
        "colab": {
          "base_uri": "https://localhost:8080/"
        }
      },
      "outputs": [
        {
          "output_type": "execute_result",
          "data": {
            "text/plain": [
              "{'서윤': 86, '지아': 80, '하준': 90}"
            ]
          },
          "metadata": {},
          "execution_count": 24
        }
      ],
      "source": [
        "# 사전을 생성하세요.\n",
        "score={'하준':90, '서윤':86, '지아':80}\n",
        "score"
      ]
    },
    {
      "cell_type": "code",
      "execution_count": 23,
      "metadata": {
        "ExecuteTime": {
          "end_time": "2022-02-11T06:47:17.638200Z",
          "start_time": "2022-02-11T06:47:17.614179Z"
        },
        "id": "SptmerO6IYUm",
        "outputId": "62f93f5b-54aa-4e96-b3dd-e2b30e9762a6",
        "colab": {
          "base_uri": "https://localhost:8080/"
        }
      },
      "outputs": [
        {
          "output_type": "execute_result",
          "data": {
            "text/plain": [
              "{'서윤': 76, '지아': 80, '하준': 90}"
            ]
          },
          "metadata": {},
          "execution_count": 23
        }
      ],
      "source": [
        "# 서윤의 점수를 76점으로 수정하세요.\n",
        "score['서윤']=76\n",
        "score"
      ]
    },
    {
      "cell_type": "code",
      "execution_count": 25,
      "metadata": {
        "ExecuteTime": {
          "end_time": "2022-02-11T06:47:17.654210Z",
          "start_time": "2022-02-11T06:47:17.638200Z"
        },
        "id": "1CN9hq85IYUm",
        "outputId": "cf79649a-29a3-40f6-c15f-c91d18a8b527",
        "colab": {
          "base_uri": "https://localhost:8080/"
        }
      },
      "outputs": [
        {
          "output_type": "execute_result",
          "data": {
            "text/plain": [
              "{'서윤': 86, '하준': 90}"
            ]
          },
          "metadata": {},
          "execution_count": 25
        }
      ],
      "source": [
        "# 지아를 삭제하세요.\n",
        "del score['지아']\n",
        "score"
      ]
    },
    {
      "cell_type": "code",
      "execution_count": 26,
      "metadata": {
        "ExecuteTime": {
          "end_time": "2022-02-11T06:47:17.670200Z",
          "start_time": "2022-02-11T06:47:17.654210Z"
        },
        "id": "pX1PzZW0IYUn",
        "outputId": "7e49edba-ad3a-4a38-8dfb-4f7e4040e617",
        "colab": {
          "base_uri": "https://localhost:8080/"
        }
      },
      "outputs": [
        {
          "output_type": "execute_result",
          "data": {
            "text/plain": [
              "{'민우': 100, '서윤': 86, '하준': 90}"
            ]
          },
          "metadata": {},
          "execution_count": 26
        }
      ],
      "source": [
        "# 민우 100점을 추가하세요.\n",
        "score['민우']=100\n",
        "score"
      ]
    }
  ],
  "metadata": {
    "kernelspec": {
      "display_name": "Python 3",
      "language": "python",
      "name": "python3"
    },
    "language_info": {
      "codemirror_mode": {
        "name": "ipython",
        "version": 3
      },
      "file_extension": ".py",
      "mimetype": "text/x-python",
      "name": "python",
      "nbconvert_exporter": "python",
      "pygments_lexer": "ipython3",
      "version": "3.8.5"
    },
    "toc": {
      "base_numbering": 1,
      "nav_menu": {},
      "number_sections": true,
      "sideBar": true,
      "skip_h1_title": false,
      "title_cell": "Table of Contents",
      "title_sidebar": "Contents",
      "toc_cell": false,
      "toc_position": {},
      "toc_section_display": true,
      "toc_window_display": false
    },
    "varInspector": {
      "cols": {
        "lenName": 16,
        "lenType": 16,
        "lenVar": 40
      },
      "kernels_config": {
        "python": {
          "delete_cmd_postfix": "",
          "delete_cmd_prefix": "del ",
          "library": "var_list.py",
          "varRefreshCmd": "print(var_dic_list())"
        },
        "r": {
          "delete_cmd_postfix": ") ",
          "delete_cmd_prefix": "rm(",
          "library": "var_list.r",
          "varRefreshCmd": "cat(var_dic_list()) "
        }
      },
      "types_to_exclude": [
        "module",
        "function",
        "builtin_function_or_method",
        "instance",
        "_Feature"
      ],
      "window_display": false
    },
    "colab": {
      "name": "WS_DAY1_LAB.ipynb",
      "provenance": [],
      "collapsed_sections": [],
      "include_colab_link": true
    }
  },
  "nbformat": 4,
  "nbformat_minor": 0
}