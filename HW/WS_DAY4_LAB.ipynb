{
  "cells": [
    {
      "cell_type": "markdown",
      "metadata": {
        "id": "view-in-github",
        "colab_type": "text"
      },
      "source": [
        "<a href=\"https://colab.research.google.com/github/ttaho/kb_it-s-your-life/blob/main/HW/WS_DAY4_LAB.ipynb\" target=\"_parent\"><img src=\"https://colab.research.google.com/assets/colab-badge.svg\" alt=\"Open In Colab\"/></a>"
      ]
    },
    {
      "cell_type": "markdown",
      "metadata": {
        "id": "1RVxSyEVx3dP"
      },
      "source": [
        "### Q1\n",
        "- Car 클래스를 아래 메소드에 맞춰 정의하세요.\n",
        "- \\_\\_init\\_\\_ 메소드\n",
        "    - 매개변수 : self, year, driving_distance\n",
        "    - 각 매개변수는 속성으로 저장\n",
        "- info 메소드\n",
        "    - 매개변수 : self\n",
        "    - 속성에 대한 정보를 한 줄씩 출력\n",
        "- drive 메소드\n",
        "    - 매개변수 : self, distance\n",
        "    - driving_distance 속성에 distance를 누적하여 더함\n",
        "    - \"(distance) km를 주행하였습니다.\" 출력"
      ]
    },
    {
      "cell_type": "code",
      "execution_count": 76,
      "metadata": {
        "ExecuteTime": {
          "end_time": "2022-02-17T05:49:23.957670Z",
          "start_time": "2022-02-17T05:49:23.933909Z"
        },
        "id": "WRQM4K6Gx3dR"
      },
      "outputs": [],
      "source": [
        "class Car :\n",
        "  def __init__(self, year, driving_distance):\n",
        "    self.year = year\n",
        "    self.driving_distance = driving_distance\n",
        "  def info(self):\n",
        "    print('* 차 정보 *')\n",
        "    print(f'- 연식 : {self.year}년식')\n",
        "    print(f'- 주행 거리 : {self.driving_distance} km')\n",
        "  def drive(self, distance):\n",
        "    self.driving_distance += distance\n",
        "    print(f'{distance} km를 주행하였습니다.')"
      ]
    },
    {
      "cell_type": "code",
      "execution_count": 77,
      "metadata": {
        "ExecuteTime": {
          "end_time": "2022-02-17T05:52:31.540194Z",
          "start_time": "2022-02-17T05:52:31.534226Z"
        },
        "colab": {
          "base_uri": "https://localhost:8080/"
        },
        "id": "1orsfBVvx3dS",
        "outputId": "c555ef62-ef28-4d8f-ec87-83c8eb3d30f5"
      },
      "outputs": [
        {
          "output_type": "stream",
          "name": "stdout",
          "text": [
            "* 차 정보 *\n",
            "- 연식 : 1999년식\n",
            "- 주행 거리 : 30000 km\n"
          ]
        }
      ],
      "source": [
        "# Car 클래스의 인스턴스를 생성하여 myCar 에 저장하세요.\n",
        "# year = 1999, driving_distance = 30000\n",
        "myCar = Car(year = 1999, driving_distance = 30000)\n",
        "\n",
        "# myCar의 정보를 출력하세요.\n",
        "myCar.info()"
      ]
    },
    {
      "cell_type": "code",
      "execution_count": 78,
      "metadata": {
        "ExecuteTime": {
          "end_time": "2022-02-17T05:53:19.192917Z",
          "start_time": "2022-02-17T05:53:19.177166Z"
        },
        "colab": {
          "base_uri": "https://localhost:8080/"
        },
        "id": "Hf6shAlNx3dS",
        "outputId": "ff9950c7-c68c-473f-99a4-e6b740ad7fc0"
      },
      "outputs": [
        {
          "output_type": "stream",
          "name": "stdout",
          "text": [
            "100 km를 주행하였습니다.\n",
            "* 차 정보 *\n",
            "- 연식 : 1999년식\n",
            "- 주행 거리 : 30100 km\n"
          ]
        }
      ],
      "source": [
        "# 100 km 주행 후 정보를 출력하세요.\n",
        "myCar.drive(100)\n",
        "myCar.info()"
      ]
    },
    {
      "cell_type": "code",
      "execution_count": 79,
      "metadata": {
        "ExecuteTime": {
          "end_time": "2022-02-17T05:53:30.762171Z",
          "start_time": "2022-02-17T05:53:30.746141Z"
        },
        "colab": {
          "base_uri": "https://localhost:8080/"
        },
        "id": "9x8f1n5tx3dT",
        "outputId": "f09ee6a0-d9e1-4cf1-dfc8-6155c80fc7d0"
      },
      "outputs": [
        {
          "output_type": "stream",
          "name": "stdout",
          "text": [
            "500 km를 주행하였습니다.\n",
            "* 차 정보 *\n",
            "- 연식 : 1999년식\n",
            "- 주행 거리 : 30600 km\n"
          ]
        }
      ],
      "source": [
        "# 500 km 주행 후 정보를 출력하세요.\n",
        "myCar.drive(500)\n",
        "myCar.info()"
      ]
    },
    {
      "cell_type": "markdown",
      "metadata": {
        "id": "IVcHCrrfx3dT"
      },
      "source": [
        "<br/>\n",
        "<br/>\n",
        "<br/>\n",
        "<br/>"
      ]
    },
    {
      "cell_type": "markdown",
      "metadata": {
        "id": "KQIIqLH6x3dT"
      },
      "source": [
        "### Q2\n",
        "- Car 클래스를 상속받아 Electric_car 클래스를 아래 메소드에 맞춰 정의하세요.\n",
        "- \\_\\_init\\_\\_ 메소드\n",
        "    - 매개변수 : self, year, driving_distance, battery_volumne, fuel_efficiency\n",
        "    - year, driving_distance 는 부모 클래스를 오버라이딩\n",
        "    - battery_volumne, fuel_efficiency 는 각각 속성으로 저장\n",
        "    - '전기차를 구입했습니다.' 출력\n",
        "- info 메소드\n",
        "    - 매개변수 : self\n",
        "    - 부모 클래스의 info() 호출\n",
        "    - 추가 속성에 대한 정보를 출력"
      ]
    },
    {
      "cell_type": "code",
      "execution_count": 80,
      "metadata": {
        "ExecuteTime": {
          "end_time": "2022-02-17T05:58:43.052621Z",
          "start_time": "2022-02-17T05:58:43.028388Z"
        },
        "id": "9ZE8fmzix3dT"
      },
      "outputs": [],
      "source": [
        "class Electric_car(Car) :\n",
        "  def __init__(self, year, driving_distance, battery_volumne, fuel_efficiency):\n",
        "    super().__init__(year, driving_distance)\n",
        "    self.battery_volumne = battery_volumne\n",
        "    self.fuel_efficiency = fuel_efficiency\n",
        "  def info(self):\n",
        "    print('* 차 정보 *')\n",
        "    print(f'- 연식 : {self.year}년식')\n",
        "    print(f'- 주행 거리 : {self.driving_distance} km')\n",
        "    print(f'- 배터리 용량 : {self.battery_volumne} kWh')\n",
        "    print(f'- 연비 : {self.fuel_efficiency} km / kWh')"
      ]
    },
    {
      "cell_type": "code",
      "execution_count": 81,
      "metadata": {
        "ExecuteTime": {
          "end_time": "2022-02-17T05:59:45.493979Z",
          "start_time": "2022-02-17T05:59:45.485964Z"
        },
        "colab": {
          "base_uri": "https://localhost:8080/"
        },
        "id": "rNGoA88Ox3dT",
        "outputId": "c573bd62-a935-4c61-89ba-06c67c8674d6"
      },
      "outputs": [
        {
          "output_type": "stream",
          "name": "stdout",
          "text": [
            "* 차 정보 *\n",
            "- 연식 : 2022년식\n",
            "- 주행 거리 : 0 km\n",
            "- 배터리 용량 : 30 kWh\n",
            "- 연비 : 3.6 km / kWh\n"
          ]
        }
      ],
      "source": [
        "# Electric_car 클래스의 인스턴스를 생성하여 myCar 에 저장하세요.\n",
        "# year = 2022, driving_distance = 0, battery_volumne = 30, fuel_efficiency = 3.6\n",
        "myCar = Electric_car(year = 2022, driving_distance = 0, battery_volumne = 30, fuel_efficiency = 3.6)\n",
        "\n",
        "# myCar의 정보를 출력하세요.\n",
        "myCar.info()"
      ]
    },
    {
      "cell_type": "markdown",
      "metadata": {
        "id": "mm5BMF1Lx3dU"
      },
      "source": [
        "<br/>\n",
        "<br/>\n",
        "<br/>\n",
        "<br/>"
      ]
    },
    {
      "cell_type": "markdown",
      "metadata": {
        "id": "ww1iTWIUx3dU"
      },
      "source": [
        "### Q3\n",
        "- Electric_car 클래스를 상속받아 Self_driving 클래스를 아래 메소드에 맞춰 정의하세요.\n",
        "- \\_\\_init\\_\\_ 메소드\n",
        "    - 매개변수 : self, year, driving_distance, battery_volumne, fuel_efficiency\n",
        "    - 모든 매개변수는 부모 클래스를 오버라이딩\n",
        "    - auto_mode 속성은 False로 설정\n",
        "    - \"자율주행 차를 구입했습니다.\" 문구 출력\n",
        "- info 메소드\n",
        "    - 매개변수 : self\n",
        "    - 부모 클래스의 info()호출\n",
        "    - \"자율주행 가능\" 문구를 출력\n",
        "- turn_auto 메소드\n",
        "    - 매개변수 : self\n",
        "    - auto_mode 속성이 True라면 False로 수정하고, \"자율주행 모드를 종료합니다.\" 문구 출력\n",
        "    - auto_mode 속성이 False라면 True로 수정하고, \"자율주행 모드로 전환합니다.\" 문구 출력"
      ]
    },
    {
      "cell_type": "code",
      "execution_count": 93,
      "metadata": {
        "ExecuteTime": {
          "end_time": "2022-02-17T06:05:27.884670Z",
          "start_time": "2022-02-17T06:05:27.868220Z"
        },
        "id": "NATv71Dix3dU"
      },
      "outputs": [],
      "source": [
        "class Self_driving(Electric_car) :\n",
        "    auto_mode=False\n",
        "    def __inif__(self, year, driving_distance, battery_volumne, fuel_efficiency):\n",
        "      super().__init__(year, driving_distance, battery_volumne, fuel_efficiency)\n",
        "      print('자율주행 차를 구입했습니다.')\n",
        "\n",
        "    def info(self):\n",
        "      print('* 차 정보 *')\n",
        "      print(f'- 연식 : {self.year}년식')\n",
        "      print(f'- 주행 거리 : {self.driving_distance} km')\n",
        "      print(f'- 배터리 용량 : {self.battery_volumne} kWh')\n",
        "      print(f'- 연비 : {self.fuel_efficiency} km / kWh')\n",
        "      print('- 자율주행 가능')\n",
        "\n",
        "    def turn_auto(self):\n",
        "      if self.auto_mode == True:\n",
        "        self.auto_mode = False\n",
        "        print('자율주행 모드를 종료합니다.')\n",
        "      elif self.auto_mode == False:\n",
        "        self.auto_mode = True\n",
        "        print('자율주행 모드로 전환합니다.')\n"
      ]
    },
    {
      "cell_type": "code",
      "execution_count": 95,
      "metadata": {
        "ExecuteTime": {
          "end_time": "2022-02-17T06:05:28.130306Z",
          "start_time": "2022-02-17T06:05:28.106269Z"
        },
        "colab": {
          "base_uri": "https://localhost:8080/"
        },
        "id": "V5vh9NOTx3dU",
        "outputId": "30ca28a1-0f39-4f51-a443-937240a40918"
      },
      "outputs": [
        {
          "output_type": "stream",
          "name": "stdout",
          "text": [
            "* 차 정보 *\n",
            "- 연식 : 2022년식\n",
            "- 주행 거리 : 0 km\n",
            "- 배터리 용량 : 30 kWh\n",
            "- 연비 : 3.6 km / kWh\n",
            "- 자율주행 가능\n"
          ]
        }
      ],
      "source": [
        "# Self_driving 클래스의 인스턴스를 생성하여 myCar 에 저장하세요.\n",
        "# year = 2022, driving_distance = 0, battery_volumne = 30, fuel_efficiency = 3.6\n",
        "myCar = Self_driving(year = 2022, driving_distance = 0, battery_volumne = 30, fuel_efficiency = 3.6)\n",
        "\n",
        "# myCar의 정보를 출력하세요.\n",
        "myCar.info()"
      ]
    },
    {
      "cell_type": "code",
      "execution_count": 96,
      "metadata": {
        "ExecuteTime": {
          "end_time": "2022-02-17T06:05:28.309039Z",
          "start_time": "2022-02-17T06:05:28.292752Z"
        },
        "colab": {
          "base_uri": "https://localhost:8080/"
        },
        "id": "_PaUQeTvx3dU",
        "outputId": "e331af4b-2c3f-47f5-8bb6-08bb73f44771"
      },
      "outputs": [
        {
          "output_type": "stream",
          "name": "stdout",
          "text": [
            "50 km를 주행하였습니다.\n",
            "* 차 정보 *\n",
            "- 연식 : 2022년식\n",
            "- 주행 거리 : 50 km\n",
            "- 배터리 용량 : 30 kWh\n",
            "- 연비 : 3.6 km / kWh\n",
            "- 자율주행 가능\n"
          ]
        }
      ],
      "source": [
        "# 50 km 주행 후 정보를 출력하세요.\n",
        "myCar.drive(50)\n",
        "myCar.info()"
      ]
    },
    {
      "cell_type": "code",
      "execution_count": 97,
      "metadata": {
        "ExecuteTime": {
          "end_time": "2022-02-17T06:05:28.618607Z",
          "start_time": "2022-02-17T06:05:28.610952Z"
        },
        "colab": {
          "base_uri": "https://localhost:8080/"
        },
        "id": "PKyXQALvx3dV",
        "outputId": "bfec1d23-fdd0-4dff-9686-502541c71a50"
      },
      "outputs": [
        {
          "output_type": "stream",
          "name": "stdout",
          "text": [
            "자율주행 모드로 전환합니다.\n"
          ]
        }
      ],
      "source": [
        "# 자율주행 모드로 전환하세요.\n",
        "myCar.turn_auto()"
      ]
    },
    {
      "cell_type": "code",
      "execution_count": 98,
      "metadata": {
        "ExecuteTime": {
          "end_time": "2022-02-17T06:05:29.218820Z",
          "start_time": "2022-02-17T06:05:29.210822Z"
        },
        "colab": {
          "base_uri": "https://localhost:8080/"
        },
        "id": "q3GoTu9Ox3dV",
        "outputId": "d0798fac-9c75-45b5-ba6e-11b3bf90e24f"
      },
      "outputs": [
        {
          "output_type": "stream",
          "name": "stdout",
          "text": [
            "자율주행 모드를 종료합니다.\n"
          ]
        }
      ],
      "source": [
        "# 자율주행 모드를 종료하세요.\n",
        "myCar.turn_auto()"
      ]
    },
    {
      "cell_type": "markdown",
      "metadata": {
        "id": "h0M4nW0Hx3dV"
      },
      "source": [
        "<br/>\n",
        "<br/>\n",
        "<br/>\n",
        "<br/>"
      ]
    },
    {
      "cell_type": "markdown",
      "metadata": {
        "id": "Wm5mz9TOx3dV"
      },
      "source": [
        "### Q4\n",
        "- Q1의 Car 클래스에서 정보 출력을 info 메소드 대신 \\_\\_str\\_\\_ 메소드를 사용하여 정의하세요."
      ]
    },
    {
      "cell_type": "code",
      "execution_count": 63,
      "metadata": {
        "ExecuteTime": {
          "end_time": "2022-02-17T06:15:09.830337Z",
          "start_time": "2022-02-17T06:15:09.806850Z"
        },
        "id": "YE9RlIubx3dV"
      },
      "outputs": [],
      "source": [
        "class Car :\n",
        "  def __init__(self, year, driving_distance):\n",
        "    self.year = year\n",
        "    self.driving_distance = driving_distance\n",
        "  def __str__(self):\n",
        "    return f'* 차 정보 *\\n- 연식 : {self.year}년식\\n- 주행 거리 : {self.driving_distance} km' \n"
      ]
    },
    {
      "cell_type": "code",
      "execution_count": 64,
      "metadata": {
        "ExecuteTime": {
          "end_time": "2022-02-17T06:16:19.583179Z",
          "start_time": "2022-02-17T06:16:19.567326Z"
        },
        "colab": {
          "base_uri": "https://localhost:8080/"
        },
        "id": "fHjFSCLGx3dV",
        "outputId": "f10c3042-c4a6-4dae-8a02-b21ed9a9b438"
      },
      "outputs": [
        {
          "output_type": "stream",
          "name": "stdout",
          "text": [
            "* 차 정보 *\n",
            "- 연식 : 2010년식\n",
            "- 주행 거리 : 15000 km\n"
          ]
        }
      ],
      "source": [
        "# Car 클래스의 인스턴스를 생성하여 myCar 에 저장하세요.\n",
        "# year = 2010, driving_distance = 15000\n",
        "myCar = Car(year = 2010,driving_distance = 15000)\n",
        "\n",
        "# myCar의 정보를 출력하세요.\n",
        "print(myCar)"
      ]
    },
    {
      "cell_type": "markdown",
      "metadata": {
        "id": "Ybwzv8U1x3dW"
      },
      "source": [
        "<br/>\n",
        "<br/>\n",
        "<br/>\n",
        "<br/>"
      ]
    },
    {
      "cell_type": "markdown",
      "metadata": {
        "id": "qVL11K9gx3dW"
      },
      "source": [
        "### Q5\n",
        "- Q2의 Electric_car 클래스에서 정보 출력을 info 메소드 대신 \\_\\_str\\_\\_ 메소드를 사용하여 정의하세요.\n",
        "    - year, driving_distance 속성은 부모의 \\_\\_str\\_\\_ 메소드를 오버라이딩"
      ]
    },
    {
      "cell_type": "code",
      "execution_count": 65,
      "metadata": {
        "ExecuteTime": {
          "end_time": "2022-02-17T06:22:20.729009Z",
          "start_time": "2022-02-17T06:22:20.713481Z"
        },
        "id": "rnsEjoU4x3dW"
      },
      "outputs": [],
      "source": [
        "class Electric_car(Car) :\n",
        "  def __init__(self, year, driving_distance, battery_volumne, fuel_efficiency):\n",
        "    super().__init__(year, driving_distance)\n",
        "    self.battery_volumne = battery_volumne\n",
        "    self.fuel_efficiency = fuel_efficiency\n",
        "  def __str__(self):\n",
        "     return f'* 차 정보 *\\n- 연식 : {self.year}년식\\n- 주행 거리 : {self.driving_distance} km\\n- 배터리 용량 : {self.battery_volumne} kWh\\n- 연비 : {self.fuel_efficiency} km / kWh' "
      ]
    },
    {
      "cell_type": "code",
      "execution_count": 66,
      "metadata": {
        "ExecuteTime": {
          "end_time": "2022-02-17T06:22:20.874905Z",
          "start_time": "2022-02-17T06:22:20.858881Z"
        },
        "colab": {
          "base_uri": "https://localhost:8080/"
        },
        "id": "jkJRF2-1x3dW",
        "outputId": "5a8da912-6ff8-4ee8-da32-9ee719867ddc"
      },
      "outputs": [
        {
          "output_type": "stream",
          "name": "stdout",
          "text": [
            "* 차 정보 *\n",
            "- 연식 : 2022년식\n",
            "- 주행 거리 : 0 km\n",
            "- 배터리 용량 : 30 kWh\n",
            "- 연비 : 3.6 km / kWh\n"
          ]
        }
      ],
      "source": [
        "# Electric_car 클래스의 인스턴스를 생성하여 myCar 에 저장하세요.\n",
        "# year = 2022, driving_distance = 0, battery_volumne = 30, fuel_efficiency = 3.6\n",
        "myCar = Electric_car(year = 2022, driving_distance = 0, battery_volumne = 30, fuel_efficiency = 3.6)\n",
        "\n",
        "# myCar의 정보를 출력하세요.\n",
        "print(myCar)"
      ]
    }
  ],
  "metadata": {
    "kernelspec": {
      "display_name": "Python 3 (ipykernel)",
      "language": "python",
      "name": "python3"
    },
    "language_info": {
      "codemirror_mode": {
        "name": "ipython",
        "version": 3
      },
      "file_extension": ".py",
      "mimetype": "text/x-python",
      "name": "python",
      "nbconvert_exporter": "python",
      "pygments_lexer": "ipython3",
      "version": "3.9.13"
    },
    "toc": {
      "base_numbering": 1,
      "nav_menu": {},
      "number_sections": true,
      "sideBar": true,
      "skip_h1_title": false,
      "title_cell": "Table of Contents",
      "title_sidebar": "Contents",
      "toc_cell": false,
      "toc_position": {},
      "toc_section_display": true,
      "toc_window_display": false
    },
    "varInspector": {
      "cols": {
        "lenName": 16,
        "lenType": 16,
        "lenVar": 40
      },
      "kernels_config": {
        "python": {
          "delete_cmd_postfix": "",
          "delete_cmd_prefix": "del ",
          "library": "var_list.py",
          "varRefreshCmd": "print(var_dic_list())"
        },
        "r": {
          "delete_cmd_postfix": ") ",
          "delete_cmd_prefix": "rm(",
          "library": "var_list.r",
          "varRefreshCmd": "cat(var_dic_list()) "
        }
      },
      "types_to_exclude": [
        "module",
        "function",
        "builtin_function_or_method",
        "instance",
        "_Feature"
      ],
      "window_display": false
    },
    "colab": {
      "name": "WS_DAT4_LAB.ipynb",
      "provenance": [],
      "include_colab_link": true
    }
  },
  "nbformat": 4,
  "nbformat_minor": 0
}