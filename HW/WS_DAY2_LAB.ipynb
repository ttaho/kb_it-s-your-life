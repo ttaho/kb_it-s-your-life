{
  "cells": [
    {
      "cell_type": "markdown",
      "metadata": {
        "id": "view-in-github",
        "colab_type": "text"
      },
      "source": [
        "<a href=\"https://colab.research.google.com/github/ttaho/kb_it-s-your-life/blob/main/HW/WS_DAY2_LAB.ipynb\" target=\"_parent\"><img src=\"https://colab.research.google.com/assets/colab-badge.svg\" alt=\"Open In Colab\"/></a>"
      ]
    },
    {
      "cell_type": "markdown",
      "metadata": {
        "id": "LLCJSYkfLYmi"
      },
      "source": [
        "### Q1\n",
        "- sleep 함수를 사용하면 일정 시간동안 실행중인 코드를 멈출 수 있습니다. ex. sleep(5) : 5초 동안 일시정지\n",
        "- for 반복문을 사용하여 구구단 2단 출력 후 1초 멈추고, 3단 출력 후 1초 멈추고, 4단을 출력하세요."
      ]
    },
    {
      "cell_type": "code",
      "execution_count": 4,
      "metadata": {
        "ExecuteTime": {
          "end_time": "2022-02-17T08:11:09.793395Z",
          "start_time": "2022-02-17T08:11:05.746241Z"
        },
        "colab": {
          "base_uri": "https://localhost:8080/"
        },
        "id": "ONhoKcUYLYmn",
        "outputId": "1f90b317-5836-4ca7-e600-e4fdc06c961b"
      },
      "outputs": [
        {
          "output_type": "stream",
          "name": "stdout",
          "text": [
            "Start!!\n",
            "3\n",
            "2\n",
            "1\n",
            "Finish!!\n"
          ]
        }
      ],
      "source": [
        "# 코드를 실행하세요.\n",
        "from time import sleep\n",
        "\n",
        "print('Start!!')\n",
        "\n",
        "sleep(1)\n",
        "print('3')\n",
        "\n",
        "sleep(1)\n",
        "print('2')\n",
        "\n",
        "sleep(1)\n",
        "print('1')\n",
        "\n",
        "sleep(1)\n",
        "print('Finish!!')"
      ]
    },
    {
      "cell_type": "code",
      "execution_count": 5,
      "metadata": {
        "ExecuteTime": {
          "end_time": "2022-02-17T08:11:55.923289Z",
          "start_time": "2022-02-17T08:11:52.888032Z"
        },
        "colab": {
          "base_uri": "https://localhost:8080/"
        },
        "id": "xakh11mlLYmr",
        "outputId": "08534975-84c5-4a18-83f1-25f259f54fa9"
      },
      "outputs": [
        {
          "output_type": "stream",
          "name": "stdout",
          "text": [
            "2 x 1 = 2\n",
            "2 x 2 = 4\n",
            "2 x 3 = 6\n",
            "2 x 4 = 8\n",
            "2 x 5 = 10\n",
            "2 x 6 = 12\n",
            "2 x 7 = 14\n",
            "2 x 8 = 16\n",
            "2 x 9 = 18\n",
            "3 x 1 = 3\n",
            "3 x 2 = 6\n",
            "3 x 3 = 9\n",
            "3 x 4 = 12\n",
            "3 x 5 = 15\n",
            "3 x 6 = 18\n",
            "3 x 7 = 21\n",
            "3 x 8 = 24\n",
            "3 x 9 = 27\n",
            "4 x 1 = 4\n",
            "4 x 2 = 8\n",
            "4 x 3 = 12\n",
            "4 x 4 = 16\n",
            "4 x 5 = 20\n",
            "4 x 6 = 24\n",
            "4 x 7 = 28\n",
            "4 x 8 = 32\n",
            "4 x 9 = 36\n"
          ]
        }
      ],
      "source": [
        "# 구구단 2단, 3단, 4단을 1초 간격으로 출력하세요.\n",
        "# code here\n",
        "for dan in range(2,5):\n",
        "  for no in range(1,10):\n",
        "    print(f'{dan} x {no} = {dan*no}')\n",
        "  sleep(1)"
      ]
    },
    {
      "cell_type": "markdown",
      "metadata": {
        "id": "o94WU4wILYms"
      },
      "source": [
        "<br/>\n",
        "<br/>\n",
        "<br/>\n",
        "<br/>"
      ]
    },
    {
      "cell_type": "markdown",
      "metadata": {
        "id": "V5ZPFo90LYmt"
      },
      "source": [
        "### Q2\n",
        "- for 반복문을 사용하여 아래의 결과를 1초마다 한 글자씩 출력하세요.<br/>\n",
        "1<br/>\n",
        "1 3<br/>\n",
        "1 3 5<br/>\n",
        "1 3 5 7<br/>\n",
        "1 3 5 7 9"
      ]
    },
    {
      "cell_type": "code",
      "execution_count": 13,
      "metadata": {
        "ExecuteTime": {
          "end_time": "2022-02-17T08:13:35.196411Z",
          "start_time": "2022-02-17T08:13:20.021705Z"
        },
        "colab": {
          "base_uri": "https://localhost:8080/"
        },
        "id": "5RQRJPXJLYmt",
        "outputId": "326b5707-2355-4312-819c-2a14fbb78ba8"
      },
      "outputs": [
        {
          "output_type": "stream",
          "name": "stdout",
          "text": [
            "1 \n",
            "1 3 \n",
            "1 3 5 \n",
            "1 3 5 7 \n",
            "1 3 5 7 9 \n"
          ]
        }
      ],
      "source": [
        "# code here\n",
        "a=[1,3,5,7,9]\n",
        "for i in range(5):\n",
        "  for num in range(i+1):\n",
        "    print(a[num],end=' ')\n",
        "    sleep(1)\n",
        "  print()\n"
      ]
    },
    {
      "cell_type": "markdown",
      "metadata": {
        "id": "_DqWMt5jLYmu"
      },
      "source": [
        "<br/>\n",
        "<br/>\n",
        "<br/>\n",
        "<br/>"
      ]
    },
    {
      "cell_type": "markdown",
      "metadata": {
        "id": "HGtmDjlOLYmv"
      },
      "source": [
        "### Q3\n",
        "- randint 함수는 무작위로 정수를 선택하는 함수입니다. ex. randint(10, 20) : 10이상 20이하의 정수를 무작위로 선택\n",
        "- while 반복문을 사용하여 로또 번호를 생성하는 코드를 작성하세요.\n",
        "    - 1이상 45이하의 중복되지않는 6개의 숫자 선택\n",
        "    - 오름차순으로 정렬 후 출력"
      ]
    },
    {
      "cell_type": "code",
      "execution_count": 6,
      "metadata": {
        "ExecuteTime": {
          "end_time": "2022-02-17T08:14:37.658641Z",
          "start_time": "2022-02-17T08:14:37.643030Z"
        },
        "colab": {
          "base_uri": "https://localhost:8080/"
        },
        "id": "7AzP7a8XLYmv",
        "outputId": "d08b933e-a43a-4c1d-e2b8-adc4c3548656"
      },
      "outputs": [
        {
          "output_type": "stream",
          "name": "stdout",
          "text": [
            "3 1 1 2 3\n"
          ]
        }
      ],
      "source": [
        "# 코드를 실행하세요.\n",
        "from random import randint\n",
        "\n",
        "a = randint(1, 3)\n",
        "b = randint(1, 3)\n",
        "c = randint(1, 3)\n",
        "d = randint(1, 3)\n",
        "e = randint(1, 3)\n",
        "\n",
        "print(a, b, c, d, e)"
      ]
    },
    {
      "cell_type": "code",
      "execution_count": 14,
      "metadata": {
        "ExecuteTime": {
          "end_time": "2022-02-14T00:41:26.166312Z",
          "start_time": "2022-02-14T00:41:26.158330Z"
        },
        "colab": {
          "base_uri": "https://localhost:8080/"
        },
        "id": "pjGTnq3xLYmw",
        "outputId": "e18b5b8a-553c-4eb3-af11-c8468c737846"
      },
      "outputs": [
        {
          "output_type": "stream",
          "name": "stdout",
          "text": [
            "[4, 8, 9, 36, 38, 41]\n"
          ]
        }
      ],
      "source": [
        "# while 반복문을 사용하여 lotto 리스트에 6개의 로또 번호를 추가한 뒤 정렬하여 출력하세요.\n",
        "lotto = []\n",
        "# code here\n",
        "while len(lotto)<6:\n",
        "  num=randint(1,45)\n",
        "  if num not in lotto:\n",
        "    lotto.append(num)\n",
        "lotto.sort()\n",
        "print(lotto)"
      ]
    },
    {
      "cell_type": "markdown",
      "metadata": {
        "id": "qjKs7QauLYmx"
      },
      "source": [
        "<br/>\n",
        "<br/>\n",
        "<br/>\n",
        "<br/>"
      ]
    },
    {
      "cell_type": "markdown",
      "metadata": {
        "id": "qvmitn-yLYmx"
      },
      "source": [
        "### Q4\n",
        "- 현재 10000원이 있고, 물건과 수량을 랜덤으로 구매하려고 합니다.\n",
        "- 다음 조건을 만족시키면서 구매가 불가능하면 반복문을 종료하는 코드를 작성하세요.\n",
        "    - 한번에 물건 가격은 100이상 1000이하의 100단위, 수량은 1개 이상 5개 이하를 구매\n",
        "    - 구매가 가능하면 금액, 수량, 지불할 금액, 구매 후 남은 금액을 출력\n",
        "    - 구매가 불가능하면 금액, 수량, 지불할 금액, \"구매 불가\" 문구 출력 후 반복문 종료"
      ]
    },
    {
      "cell_type": "code",
      "execution_count": 26,
      "metadata": {
        "ExecuteTime": {
          "end_time": "2022-02-17T08:19:32.711582Z",
          "start_time": "2022-02-17T08:19:32.687429Z"
        },
        "colab": {
          "base_uri": "https://localhost:8080/"
        },
        "id": "npQEO58ILYmy",
        "outputId": "3bfd1453-dcbc-4976-b424-430904cf66a3"
      },
      "outputs": [
        {
          "output_type": "stream",
          "name": "stdout",
          "text": [
            "금액 : 800, 수량 : 1, 지불 : 800, 구매 후 남은 금액 : 9200 \n",
            "금액 : 500, 수량 : 1, 지불 : 500, 구매 후 남은 금액 : 8700 \n",
            "금액 : 700, 수량 : 5, 지불 : 3500, 구매 후 남은 금액 : 5200 \n",
            "금액 : 600, 수량 : 1, 지불 : 600, 구매 후 남은 금액 : 4600 \n",
            "금액 : 100, 수량 : 4, 지불 : 400, 구매 후 남은 금액 : 4200 \n",
            "금액 : 800, 수량 : 5, 지불 : 4000, 구매 후 남은 금액 : 200 \n",
            "금액 : 600, 수량 : 2, 지불 : 1200, 구매 불가\n"
          ]
        }
      ],
      "source": [
        "balance = 10000 # 현재 금액\n",
        "while True:\n",
        "  price = randint(1,10)*100\n",
        "  num = randint(1,5)\n",
        "  balance-=price*num\n",
        "  if balance <0:\n",
        "    print(f'금액 : {price}, 수량 : {num}, 지불 : {price*num}, 구매 불가')\n",
        "    break;\n",
        "\n",
        "  print(f'금액 : {price}, 수량 : {num}, 지불 : {price*num}, 구매 후 남은 금액 : {balance} ')"
      ]
    }
  ],
  "metadata": {
    "kernelspec": {
      "display_name": "Python 3 (ipykernel)",
      "language": "python",
      "name": "python3"
    },
    "language_info": {
      "codemirror_mode": {
        "name": "ipython",
        "version": 3
      },
      "file_extension": ".py",
      "mimetype": "text/x-python",
      "name": "python",
      "nbconvert_exporter": "python",
      "pygments_lexer": "ipython3",
      "version": "3.9.13"
    },
    "toc": {
      "base_numbering": 1,
      "nav_menu": {},
      "number_sections": true,
      "sideBar": true,
      "skip_h1_title": false,
      "title_cell": "Table of Contents",
      "title_sidebar": "Contents",
      "toc_cell": false,
      "toc_position": {},
      "toc_section_display": true,
      "toc_window_display": false
    },
    "varInspector": {
      "cols": {
        "lenName": 16,
        "lenType": 16,
        "lenVar": 40
      },
      "kernels_config": {
        "python": {
          "delete_cmd_postfix": "",
          "delete_cmd_prefix": "del ",
          "library": "var_list.py",
          "varRefreshCmd": "print(var_dic_list())"
        },
        "r": {
          "delete_cmd_postfix": ") ",
          "delete_cmd_prefix": "rm(",
          "library": "var_list.r",
          "varRefreshCmd": "cat(var_dic_list()) "
        }
      },
      "types_to_exclude": [
        "module",
        "function",
        "builtin_function_or_method",
        "instance",
        "_Feature"
      ],
      "window_display": false
    },
    "colab": {
      "name": "WS_DAY2_LAB.ipynb",
      "provenance": [],
      "include_colab_link": true
    }
  },
  "nbformat": 4,
  "nbformat_minor": 0
}