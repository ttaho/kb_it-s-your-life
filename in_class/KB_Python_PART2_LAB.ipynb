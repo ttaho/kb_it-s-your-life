{
  "cells": [
    {
      "cell_type": "markdown",
      "metadata": {
        "id": "view-in-github",
        "colab_type": "text"
      },
      "source": [
        "<a href=\"https://colab.research.google.com/github/ttaho/kb_it-s-your-life/blob/main/in_class/KB_Python_PART2_LAB.ipynb\" target=\"_parent\"><img src=\"https://colab.research.google.com/assets/colab-badge.svg\" alt=\"Open In Colab\"/></a>"
      ]
    },
    {
      "cell_type": "markdown",
      "metadata": {
        "id": "2LLUr4CBSRKR"
      },
      "source": [
        "## 1.조건문\n"
      ]
    },
    {
      "cell_type": "markdown",
      "metadata": {
        "id": "MszWH3LE99fE"
      },
      "source": [
        "### 1-01 단순 조건 분기\n",
        "        if <condition>:\n",
        "        <탭> statement\n",
        "        else:\n",
        "        <탭> statement\n",
        "\n",
        "- 들여쓰기(indent)\n",
        "  - if 조건문을 만들 때 if 조건문 바로 아래 문장부터 if에 속하는 모든 문장에 대해 들여쓰기를 적용해야 함\n",
        "  - 들여쓰기는 항상 같은 깊이     \n",
        "  - 들여쓰기는 탭이나 스페이스 어느 것으로 해도 상관없으나 혼용해서 사용하면 에러 발생   "
      ]
    },
    {
      "cell_type": "code",
      "execution_count": null,
      "metadata": {
        "id": "x6c9eA7ZSRKR",
        "colab": {
          "base_uri": "https://localhost:8080/"
        },
        "outputId": "43bcc4fe-6261-45bd-9c03-928b527ec16d"
      },
      "outputs": [
        {
          "output_type": "stream",
          "name": "stdout",
          "text": [
            "성별을 입력하세요. MALE or FEMALE: MALE\n",
            "남성입니다.\n"
          ]
        }
      ],
      "source": [
        "#문자열을 입력ㅂ다아 gender라는 이름을 부여하고\n",
        "#만약에 gender가 MALE과 같으면 남성입니다.를 출력하고\n",
        "#아니면 여성입니다.를 출력한다.\n",
        "\n",
        "gender = input('성별을 입력하세요. MALE or FEMALE: ')\n",
        "\n",
        "if gender == 'MALE':\n",
        "  print(\"남성입니다.\")\n",
        "else :\n",
        "  print(\"여성입니다.\")"
      ]
    },
    {
      "cell_type": "code",
      "source": [
        "#conditional expression  1줄 작성, expression = object, 함수의 argument, return 사용\n",
        "gender = 'FEMALE'\n",
        "print(f\"{'남' if gender == 'MALE' else '여'}성입니다.\")"
      ],
      "metadata": {
        "colab": {
          "base_uri": "https://localhost:8080/"
        },
        "id": "hbUJNm7kUu8y",
        "outputId": "67caaa7e-6690-4bd6-e8ed-7b9b0b9ecdcf"
      },
      "execution_count": null,
      "outputs": [
        {
          "output_type": "stream",
          "name": "stdout",
          "text": [
            "여성입니다.\n"
          ]
        }
      ]
    },
    {
      "cell_type": "code",
      "source": [
        "#dict를 사용해서 if ~ elif ~ elif ~ else 구조대신 dict 를 사용하는 것이 좋음\n",
        "gender = {'MALE': '남성', 'FEMALE': '여성'}\n",
        "x=input('성별을 입력하세요. MALE or FEMALE: ')\n",
        "r=gender.get(x, '잘못된입력')\n",
        "print(f'{r}입니다')"
      ],
      "metadata": {
        "colab": {
          "base_uri": "https://localhost:8080/"
        },
        "id": "al9_fvV_VtGK",
        "outputId": "bbc47ff0-7a6e-4220-e539-2be140f5f04a"
      },
      "execution_count": null,
      "outputs": [
        {
          "output_type": "stream",
          "name": "stdout",
          "text": [
            "성별을 입력하세요. MALE or FEMALE: MALE\n",
            "남성입니다\n"
          ]
        }
      ]
    },
    {
      "cell_type": "markdown",
      "metadata": {
        "id": "Ek-_kaxm7EqN"
      },
      "source": [
        "### 1-02 if문 연습문제 1 (비만도구하기)\n",
        "(몸무게 + 100 – 키)를 비만 수치 공식이라고 할 때 키와 몸무게를 입력 받아 첫 번째\n",
        "줄에 비만 수치를 출력하고, 비만 수치가 0보다 크면 비만이라는 메시지를\n",
        "출력하세요.\n",
        "\n",
        "- 사용) info = [155, 60]\n",
        "- 출력) \n",
        "        비만 수치는 5 입니다.\n",
        "        당신은 비만입니다."
      ]
    },
    {
      "cell_type": "code",
      "execution_count": null,
      "metadata": {
        "id": "eZ7clRKUSRKS",
        "colab": {
          "base_uri": "https://localhost:8080/"
        },
        "outputId": "ba9b7d25-5b02-4ab8-9d20-1feb31d7f5e5"
      },
      "outputs": [
        {
          "output_type": "stream",
          "name": "stdout",
          "text": [
            "비만 수치는 5 입니다.\n",
            "당신은 비만입니다.\n"
          ]
        }
      ],
      "source": [
        "info = [155, 60]\n",
        "# code here\n",
        "h,w=info\n",
        "bmi=w+100-h\n",
        "print(\"비만 수치는 {} 입니다.\" .format(bmi))\n",
        "if bmi>0 :\n",
        "  print(\"당신은 비만입니다.\")"
      ]
    },
    {
      "cell_type": "markdown",
      "metadata": {
        "id": "vzgNIhyG93T0"
      },
      "source": [
        "### 1-03 다양한 조건에 따라 분기\n",
        "\n",
        "        if <condition>:\n",
        "        <탭> statement\n",
        "        elif <condition>:\n",
        "        <탭> statement        \n",
        "        else:\n",
        "        <탭> statement"
      ]
    },
    {
      "cell_type": "code",
      "execution_count": null,
      "metadata": {
        "id": "3l8sjTIvSRKU",
        "colab": {
          "base_uri": "https://localhost:8080/"
        },
        "outputId": "840c6946-7dc6-4336-aa3e-8c50b07e6955"
      },
      "outputs": [
        {
          "output_type": "stream",
          "name": "stdout",
          "text": [
            "성별을 입력하세요. MALE or FEMALE: ASD\n",
            "잘못된 입력값입니다.\n"
          ]
        }
      ],
      "source": [
        "gender = input(\"성별을 입력하세요. MALE or FEMALE: \")\n",
        "\n",
        "# 성별을 입력받아 'MALE'이면 '남성입니다', 'FEMALE'이면 '여성입니다', \n",
        "# 둘 다 아니면 '잘못된 입력값입니다'를 출력하는 프로그램을 작성한다\n",
        "# code here\n",
        "if gender == 'MALE':\n",
        "  print('남성입니다.')\n",
        "elif gender == 'FEMALE':\n",
        "  print('여성입니다.')\n",
        "else:\n",
        "  print('잘못된 입력값입니다.')\n"
      ]
    },
    {
      "cell_type": "code",
      "source": [
        "gender = input(\"성별을 입력하세요. MALE or FEMALE: \")\n",
        "print(\"남성입니다\" if gender == \"MALE\" else \"여성입니다\" if gender ==\"FEMALE\" else \"잘못된 입력값입니다\")"
      ],
      "metadata": {
        "id": "hWe5Rabih_2t"
      },
      "execution_count": null,
      "outputs": []
    },
    {
      "cell_type": "code",
      "source": [
        "gender = input(\"성별을 입력하세요. MALE or FEMALE: \")\n",
        "r='남성' if gender == 'MALE' else \\\n",
        "'여성' if gender =='FEMALE' else \\\n",
        "'잘못된 입력값'\n",
        "print(f'{r}입니다.')"
      ],
      "metadata": {
        "colab": {
          "base_uri": "https://localhost:8080/"
        },
        "id": "eEtEk0URibcw",
        "outputId": "2b3cd99e-8a0f-46be-a913-ea3a5276645d"
      },
      "execution_count": null,
      "outputs": [
        {
          "output_type": "stream",
          "name": "stdout",
          "text": [
            "성별을 입력하세요. MALE or FEMALE: MALE\n",
            "남성입니다.\n"
          ]
        }
      ]
    },
    {
      "cell_type": "code",
      "execution_count": null,
      "metadata": {
        "id": "OVLusdLGAqtR",
        "colab": {
          "base_uri": "https://localhost:8080/"
        },
        "outputId": "b65832dd-c501-45e8-b51a-917d2bcc8dc4"
      },
      "outputs": [
        {
          "output_type": "stream",
          "name": "stdout",
          "text": [
            "성별을 입력하세요. MALE or FEMALE: MALE\n",
            "남성입니다.\n"
          ]
        }
      ],
      "source": [
        "# 참고로 보세요! - dict 사용\n",
        "data = input(\"성별을 입력하세요. MALE or FEMALE: \")\n",
        "gender = {'MALE': '남성', 'FEMALE' : '여성'}\n",
        "print(gender.get(data, '잘못된 입력값') + '입니다.')"
      ]
    },
    {
      "cell_type": "markdown",
      "metadata": {
        "id": "IwqVIGtgDmu7"
      },
      "source": [
        "### 1-04 3항 연산자\n",
        "\n",
        "        <True-value> if <condition> else <False-value>"
      ]
    },
    {
      "cell_type": "code",
      "execution_count": 1,
      "metadata": {
        "id": "Msrly-HLD50C",
        "colab": {
          "base_uri": "https://localhost:8080/"
        },
        "outputId": "e7ca45ca-bb1a-40e7-8f8c-f9905295961e"
      },
      "outputs": [
        {
          "output_type": "execute_result",
          "data": {
            "text/plain": [
              "10"
            ]
          },
          "metadata": {},
          "execution_count": 1
        }
      ],
      "source": [
        "#3이 2보다 크면 10을 a에 넣고 아니면 20을 넣어라\n",
        "a = 10 if 3 > 2 else 20\n",
        "a"
      ]
    },
    {
      "cell_type": "code",
      "execution_count": 2,
      "metadata": {
        "id": "XDUIVInPD-Dx",
        "colab": {
          "base_uri": "https://localhost:8080/"
        },
        "outputId": "1c8a8ae4-c5c0-49e7-faaa-b713914e860b"
      },
      "outputs": [
        {
          "output_type": "stream",
          "name": "stdout",
          "text": [
            "남성입니다\n"
          ]
        }
      ],
      "source": [
        "# gender가 'MALE'이면 '남성' 아니면 '여성'\n",
        "gender = 'Male'\n",
        "r = '남성' if gender.upper() == 'MALE' else '여성' # code here\n",
        "\n",
        "print(f'{r}입니다')"
      ]
    },
    {
      "cell_type": "markdown",
      "metadata": {
        "id": "0Za7Sfar7A88"
      },
      "source": [
        "### 1-05 if문 연습문제 2(학점출력)\n",
        "- 성적을 입력 받아 90점 이상이면 A, 80점 이상이면 B, 70점 이상이면 C, 70점 미만이면 D를 출력하세요.\n",
        "        입력) 94\n",
        "        출력) 'A'\n",
        "        입력) 77\n",
        "        출력) 'C'"
      ]
    },
    {
      "cell_type": "markdown",
      "source": [
        "100보다 크거나, 0보다 작은 점수가 입력되는 것 : '잘못된 입력'"
      ],
      "metadata": {
        "id": "h_t3gP1cIbzg"
      }
    },
    {
      "cell_type": "code",
      "execution_count": 8,
      "metadata": {
        "id": "9ZFe0BzwSRKW",
        "colab": {
          "base_uri": "https://localhost:8080/"
        },
        "outputId": "cf31c37b-7067-472b-97aa-be7dce325974"
      },
      "outputs": [
        {
          "output_type": "stream",
          "name": "stdout",
          "text": [
            "성적입력 > 50\n",
            "D\n"
          ]
        }
      ],
      "source": [
        "score = int(input('성적입력 > '))\n",
        "\n",
        "#code here\n",
        "if score>100 or score<0:\n",
        "  print('잘못된 입력')\n",
        "else:\n",
        "    if score >= 90:\n",
        "      print('A')\n",
        "    elif score >= 80:\n",
        "      print('B')\n",
        "    elif score >= 70:\n",
        "      print('C')\n",
        "    else:\n",
        "      print('D')\n",
        "\n"
      ]
    },
    {
      "cell_type": "code",
      "execution_count": 12,
      "metadata": {
        "colab": {
          "base_uri": "https://localhost:8080/"
        },
        "id": "Lphoq2bn7PGk",
        "outputId": "0d2faccf-d372-4898-9b4d-4aa7b70622d1"
      },
      "outputs": [
        {
          "output_type": "stream",
          "name": "stdout",
          "text": [
            "성적입력 > 30\n",
            "D\n"
          ]
        }
      ],
      "source": [
        "#점수를 0 ~ 100으로만 제한하면 다음과 같이 풀이 가능함\n",
        "grade = \"DDDDDDDCBAA\"\n",
        "score = int(input('성적입력 > '))\n",
        "result=grade[score//10] if 0 <= score <= 100 else '잘못된 입력입니다.'\n",
        "print(result)"
      ]
    },
    {
      "cell_type": "code",
      "source": [
        "def func1(score):\n",
        "  grade = \"DDDDDDDCBAA\"\n",
        "  return grade[score//10] if 0 <= score <= 100 else '잘못된 입력입니다.'\n",
        "\n",
        "def func2(score):\n",
        "  if score>100 or score<0:\n",
        "    print('잘못된 입력')\n",
        "  else:\n",
        "    if score >= 90:\n",
        "      print('A')\n",
        "    elif score >= 80:\n",
        "      print('B')\n",
        "    elif score >= 70:\n",
        "      print('C')\n",
        "    else:\n",
        "      print('D')\n",
        "\n",
        "import dis\n",
        "dis.dis(func2)"
      ],
      "metadata": {
        "colab": {
          "base_uri": "https://localhost:8080/"
        },
        "id": "hIs2H_ThK3p_",
        "outputId": "1a7cd561-1771-4c90-f936-688fe07da8e3"
      },
      "execution_count": 14,
      "outputs": [
        {
          "output_type": "stream",
          "name": "stdout",
          "text": [
            "  6           0 LOAD_FAST                0 (score)\n",
            "              2 LOAD_CONST               1 (100)\n",
            "              4 COMPARE_OP               4 (>)\n",
            "              6 POP_JUMP_IF_TRUE        16\n",
            "              8 LOAD_FAST                0 (score)\n",
            "             10 LOAD_CONST               2 (0)\n",
            "             12 COMPARE_OP               0 (<)\n",
            "             14 POP_JUMP_IF_FALSE       26\n",
            "\n",
            "  7     >>   16 LOAD_GLOBAL              0 (print)\n",
            "             18 LOAD_CONST               3 ('잘못된 입력')\n",
            "             20 CALL_FUNCTION            1\n",
            "             22 POP_TOP\n",
            "             24 JUMP_FORWARD            62 (to 88)\n",
            "\n",
            "  9     >>   26 LOAD_FAST                0 (score)\n",
            "             28 LOAD_CONST               4 (90)\n",
            "             30 COMPARE_OP               5 (>=)\n",
            "             32 POP_JUMP_IF_FALSE       44\n",
            "\n",
            " 10          34 LOAD_GLOBAL              0 (print)\n",
            "             36 LOAD_CONST               5 ('A')\n",
            "             38 CALL_FUNCTION            1\n",
            "             40 POP_TOP\n",
            "             42 JUMP_FORWARD            44 (to 88)\n",
            "\n",
            " 11     >>   44 LOAD_FAST                0 (score)\n",
            "             46 LOAD_CONST               6 (80)\n",
            "             48 COMPARE_OP               5 (>=)\n",
            "             50 POP_JUMP_IF_FALSE       62\n",
            "\n",
            " 12          52 LOAD_GLOBAL              0 (print)\n",
            "             54 LOAD_CONST               7 ('B')\n",
            "             56 CALL_FUNCTION            1\n",
            "             58 POP_TOP\n",
            "             60 JUMP_FORWARD            26 (to 88)\n",
            "\n",
            " 13     >>   62 LOAD_FAST                0 (score)\n",
            "             64 LOAD_CONST               8 (70)\n",
            "             66 COMPARE_OP               5 (>=)\n",
            "             68 POP_JUMP_IF_FALSE       80\n",
            "\n",
            " 14          70 LOAD_GLOBAL              0 (print)\n",
            "             72 LOAD_CONST               9 ('C')\n",
            "             74 CALL_FUNCTION            1\n",
            "             76 POP_TOP\n",
            "             78 JUMP_FORWARD             8 (to 88)\n",
            "\n",
            " 16     >>   80 LOAD_GLOBAL              0 (print)\n",
            "             82 LOAD_CONST              10 ('D')\n",
            "             84 CALL_FUNCTION            1\n",
            "             86 POP_TOP\n",
            "        >>   88 LOAD_CONST               0 (None)\n",
            "             90 RETURN_VALUE\n"
          ]
        }
      ]
    },
    {
      "cell_type": "markdown",
      "metadata": {
        "id": "o-rcRyfX5H3v"
      },
      "source": [
        "## 2.반복문\n"
      ]
    },
    {
      "cell_type": "markdown",
      "metadata": {
        "id": "5C1sKVoDE_PN"
      },
      "source": [
        "### 2-01 while 반복문\n",
        "- 특정 조건을 만족하는 동안 실행되는 반복문\n",
        "        while <condition>:\n",
        "        <탭> statement\n",
        "        <탭> statement"
      ]
    },
    {
      "cell_type": "code",
      "source": [
        "a=100\n",
        "while a>10:\n",
        "  a = int(input())\n",
        "  if a == '0':\n",
        "    break #반복문을 종료하는 simple statement\n",
        "  if a % 2 ==1: #홀수\n",
        "    continue\n",
        "  print(\"짝수를 입력하셨습니다.\")\n",
        "else: #while 뒤의 expression이 false여서 종료되는 경우 수행\n",
        "    print('else 실행')"
      ],
      "metadata": {
        "colab": {
          "base_uri": "https://localhost:8080/"
        },
        "id": "smq3uMFHPyWT",
        "outputId": "37e5f264-cbc2-4462-f075-164b89bc062d"
      },
      "execution_count": 21,
      "outputs": [
        {
          "output_type": "stream",
          "name": "stdout",
          "text": [
            "5\n",
            "else 실행\n"
          ]
        }
      ]
    },
    {
      "cell_type": "code",
      "source": [
        ""
      ],
      "metadata": {
        "id": "NR9F1Mx6SI-O"
      },
      "execution_count": null,
      "outputs": []
    },
    {
      "cell_type": "code",
      "execution_count": 22,
      "metadata": {
        "colab": {
          "base_uri": "https://localhost:8080/"
        },
        "id": "jFUM2qj_FNzp",
        "outputId": "1b54ebc8-8bdb-4614-ba27-b0236a293906"
      },
      "outputs": [
        {
          "output_type": "stream",
          "name": "stdout",
          "text": [
            "성별을 입력하세요.MALE or FEMALE: MALE\n",
            "남성입니다\n",
            "종료\n"
          ]
        }
      ],
      "source": [
        "# 'MALE', 'FEMALE'이 아닌 것이 입력되는 동안 계속 반복해 입력을 받고,\n",
        "# gender 입력에 대해 '남성입니다', '여성입니다', '잘못된 입력값입니다'를 출력하는 프로그램 작성\n",
        "# 'MALE' 또는 'FEMALE'이 입력되면 종료한다\n",
        "\n",
        "gender=''\n",
        "while gender != 'MALE' and gender != 'FEMALE':\n",
        "    gender=input(\"성별을 입력하세요.MALE or FEMALE: \")\n",
        "\n",
        "    if gender=='MALE':\n",
        "        print(\"남성입니다\")\n",
        "    elif gender == \"FEMALE\":\n",
        "        print(\"여성입니다\")\n",
        "    else:\n",
        "        print(\"잘못된 입력값입니다\")\n",
        "print(\"종료\")"
      ]
    },
    {
      "cell_type": "code",
      "source": [
        "gender in ['MALE', 'FEMALE']\n"
      ],
      "metadata": {
        "id": "WrkI2Cl6TdPK"
      },
      "execution_count": null,
      "outputs": []
    },
    {
      "cell_type": "code",
      "execution_count": 23,
      "metadata": {
        "id": "wlJI-RPpFgMY",
        "colab": {
          "base_uri": "https://localhost:8080/"
        },
        "outputId": "e36c385a-3c75-4c1a-d3ae-c45896ffd370"
      },
      "outputs": [
        {
          "output_type": "stream",
          "name": "stdout",
          "text": [
            "성별을 입력하세요.MALE or FEMALE: MALE\n",
            "남성입니다\n",
            "종료\n"
          ]
        }
      ],
      "source": [
        "while True:\n",
        "    gender=input(\"성별을 입력하세요.MALE or FEMALE: \")\n",
        "    if gender=='MALE':\n",
        "        print(\"남성입니다\")\n",
        "    elif gender == \"FEMALE\":\n",
        "        print(\"여성입니다\")\n",
        "    else:\n",
        "        print(\"잘못된 입력값입니다\")\n",
        "    if gender == 'MALE' or gender == 'FEMALE' : break\n",
        "    \n",
        "print(\"종료\")"
      ]
    },
    {
      "cell_type": "code",
      "source": [
        "while True:\n",
        "  gender=input(\"성별을 입력하세요.MALE or FEMALE: \")\n",
        "  if gender=='MALE':\n",
        "    print(\"남성입니다\")    \n",
        "  elif gender == 'FEMALE':\n",
        "    print(\"여성입니다\")\n",
        "  else:\n",
        "    print(\"잘못된 입력값입니다\")\n",
        "  if gender =='MALE' or gender == 'FEMALE' : break\n",
        "\n",
        "print(\"종료\")     "
      ],
      "metadata": {
        "colab": {
          "base_uri": "https://localhost:8080/"
        },
        "id": "ZlnKaBzTToFp",
        "outputId": "85b334d5-9c49-4515-bad6-c9d7a4f135aa"
      },
      "execution_count": 25,
      "outputs": [
        {
          "output_type": "stream",
          "name": "stdout",
          "text": [
            "성별을 입력하세요.MALE or FEMALE: MALE\n",
            "남성입니다\n",
            "종료\n"
          ]
        }
      ]
    },
    {
      "cell_type": "code",
      "source": [
        "gen_dict = {'MALE': '남성', 'FEMALE': '여성'}\n",
        "gender =''\n",
        "while gender not in ['MALE', 'FEMALE']:\n",
        "  gender = input(\"성별을 입력하세요. MALE or FEMALE: \").upper()\n",
        "  print(gen_dict.get(gender, '잘못된 입력값')+'입니다.')\n",
        "print('종료')"
      ],
      "metadata": {
        "colab": {
          "base_uri": "https://localhost:8080/"
        },
        "id": "Di_SEpwkcHxX",
        "outputId": "9ace3e55-3eda-4046-f071-7514c0ab4dfa"
      },
      "execution_count": 31,
      "outputs": [
        {
          "output_type": "stream",
          "name": "stdout",
          "text": [
            "성별을 입력하세요. MALE or FEMALE: male\n",
            "남성입니다.\n",
            "종료\n"
          ]
        }
      ]
    },
    {
      "cell_type": "markdown",
      "metadata": {
        "id": "mqf4Il2D-Are"
      },
      "source": [
        "### 2-02 while문 연습문제 "
      ]
    },
    {
      "cell_type": "code",
      "source": [
        "# 암호를 입력받자\n",
        "pw = 'kb0801'\n",
        "\n",
        "# 올바른 암호가 입력될 때까지 계속 입력, \n",
        "# 올바른 암호가 입력되면 '로그인 되셨습니다.' 메시지 출력 \n",
        "# 올바르지 않은 암호가 입력되면 '잘못된 암호입니다. 다시 입력해 주세요.' 메시지 출력\n",
        "\n",
        "# 암호 : ks0901\n",
        "# 잘못된 암호입니다. 다시 입력해 주세요.\n",
        "# 암호 : kb0000\n",
        "# 잘못된 암호입니다. 다시 입력해 주세요.\n",
        "# 암호 : kb0801\n",
        "# 로그인 되셨습니다.\n",
        "\n",
        "while input('암호 : ')!=pw :\n",
        "    print('잘못된 암호입니다. 다시 입력해 주세요')\n",
        "else:\n",
        "    print('로그인 되셨습니다.')"
      ],
      "metadata": {
        "colab": {
          "base_uri": "https://localhost:8080/"
        },
        "id": "yKjquwXBVhtI",
        "outputId": "0f5e884a-393f-46c7-ef85-fd7e7a1880fb"
      },
      "execution_count": 32,
      "outputs": [
        {
          "output_type": "stream",
          "name": "stdout",
          "text": [
            "암호 : kb0000\n",
            "잘못된 암호입니다. 다시 입력해 주세요\n",
            "암호 : kb0901\n",
            "잘못된 암호입니다. 다시 입력해 주세요\n",
            "암호 : b0801\n",
            "잘못된 암호입니다. 다시 입력해 주세요\n",
            "암호 : kb0801\n",
            "로그인 되셨습니다.\n"
          ]
        }
      ]
    },
    {
      "cell_type": "code",
      "execution_count": null,
      "metadata": {
        "colab": {
          "base_uri": "https://localhost:8080/",
          "height": 36
        },
        "id": "Rs4ZpMj95H4P",
        "outputId": "4153cefc-eb27-4d3e-9c66-0fc2c1e543dd"
      },
      "outputs": [
        {
          "name": "stdout",
          "output_type": "stream",
          "text": [
            "2500\n"
          ]
        }
      ],
      "source": [
        "# (1~100의 짝수의 합)\n",
        "num = # 초기값\n",
        "tot = 0\n",
        "# code here\n",
        "\n"
      ]
    },
    {
      "cell_type": "code",
      "execution_count": null,
      "metadata": {
        "id": "zPDAjcbf5H4R"
      },
      "outputs": [],
      "source": [
        "# 별(*)출력하기\n",
        "# *\n",
        "# **\n",
        "# ***\n",
        "# ****\n",
        "# *****\n",
        "\n",
        "i = 0\n",
        "# code here\n",
        "\n"
      ]
    },
    {
      "cell_type": "markdown",
      "metadata": {
        "id": "ozF7dEZQMb-k"
      },
      "source": [
        "### 2-03 for 반복문의 기본구조\n",
        "\n",
        "        for <variable> in <iterable> :\n",
        "        <탭> statements\n",
        "\n",
        "- iterable : list, tuple, str, set, dict ... + iterator, generator        "
      ]
    },
    {
      "cell_type": "code",
      "execution_count": null,
      "metadata": {
        "colab": {
          "base_uri": "https://localhost:8080/"
        },
        "id": "wyO_j5oiMw-4",
        "outputId": "022cde1d-a6d0-45f6-f1fa-d5c16db6282c"
      },
      "outputs": [
        {
          "name": "stdout",
          "output_type": "stream",
          "text": [
            "red\n",
            "green\n",
            "blue\n"
          ]
        }
      ],
      "source": [
        "colors = ['red', 'green', 'blue']\n",
        "for c in colors:\n",
        "    print(c)"
      ]
    },
    {
      "cell_type": "markdown",
      "source": [
        "###Iteraton in python"
      ],
      "metadata": {
        "id": "dgCQOkdPet67"
      }
    },
    {
      "cell_type": "code",
      "source": [
        "iterator : 반복자, next(iterator) => item"
      ],
      "metadata": {
        "id": "y5J9cBPweyrA"
      },
      "execution_count": null,
      "outputs": []
    },
    {
      "cell_type": "code",
      "source": [
        "a = [1,2,3] # iterator 가 아님\n",
        "print(next(a))"
      ],
      "metadata": {
        "colab": {
          "base_uri": "https://localhost:8080/",
          "height": 191
        },
        "id": "OGSdtlhce_Qb",
        "outputId": "bd497581-8354-4c70-d312-9e9d856bfc90"
      },
      "execution_count": 34,
      "outputs": [
        {
          "output_type": "error",
          "ename": "TypeError",
          "evalue": "ignored",
          "traceback": [
            "\u001b[0;31m---------------------------------------------------------------------------\u001b[0m",
            "\u001b[0;31mTypeError\u001b[0m                                 Traceback (most recent call last)",
            "\u001b[0;32m<ipython-input-34-01131d8cabd5>\u001b[0m in \u001b[0;36m<module>\u001b[0;34m()\u001b[0m\n\u001b[1;32m      1\u001b[0m \u001b[0ma\u001b[0m \u001b[0;34m=\u001b[0m \u001b[0;34m[\u001b[0m\u001b[0;36m1\u001b[0m\u001b[0;34m,\u001b[0m\u001b[0;36m2\u001b[0m\u001b[0;34m,\u001b[0m\u001b[0;36m3\u001b[0m\u001b[0;34m]\u001b[0m \u001b[0;31m# iterator 가 아님\u001b[0m\u001b[0;34m\u001b[0m\u001b[0;34m\u001b[0m\u001b[0m\n\u001b[0;32m----> 2\u001b[0;31m \u001b[0mprint\u001b[0m\u001b[0;34m(\u001b[0m\u001b[0mnext\u001b[0m\u001b[0;34m(\u001b[0m\u001b[0ma\u001b[0m\u001b[0;34m)\u001b[0m\u001b[0;34m)\u001b[0m\u001b[0;34m\u001b[0m\u001b[0;34m\u001b[0m\u001b[0m\n\u001b[0m",
            "\u001b[0;31mTypeError\u001b[0m: 'list' object is not an iterator"
          ]
        }
      ]
    },
    {
      "cell_type": "code",
      "source": [
        "iterable : 반복자가 될 수 있는 객체, iter(iterable) => 모든 iterator는 iterable 이다\n",
        "  iter(iterator)"
      ],
      "metadata": {
        "id": "lbukjV4XfdNs"
      },
      "execution_count": null,
      "outputs": []
    },
    {
      "cell_type": "code",
      "source": [
        "a = [1,2,3] # list는 iterable임\n",
        "ai=iter(a) #iter(iterable)의 결과는 iterator 이다\n",
        "print(next(ai))\n",
        "print(next(ai))\n",
        "print(next(ai))\n",
        "print(next(ai)) #StopIteration Exception"
      ],
      "metadata": {
        "colab": {
          "base_uri": "https://localhost:8080/",
          "height": 264
        },
        "id": "8INutWTCftXe",
        "outputId": "cb4b4a85-9e5f-45db-b725-ade09080cef5"
      },
      "execution_count": 37,
      "outputs": [
        {
          "output_type": "stream",
          "name": "stdout",
          "text": [
            "1\n",
            "2\n",
            "3\n"
          ]
        },
        {
          "output_type": "error",
          "ename": "StopIteration",
          "evalue": "ignored",
          "traceback": [
            "\u001b[0;31m---------------------------------------------------------------------------\u001b[0m",
            "\u001b[0;31mStopIteration\u001b[0m                             Traceback (most recent call last)",
            "\u001b[0;32m<ipython-input-37-e32f43ba6044>\u001b[0m in \u001b[0;36m<module>\u001b[0;34m()\u001b[0m\n\u001b[1;32m      4\u001b[0m \u001b[0mprint\u001b[0m\u001b[0;34m(\u001b[0m\u001b[0mnext\u001b[0m\u001b[0;34m(\u001b[0m\u001b[0mai\u001b[0m\u001b[0;34m)\u001b[0m\u001b[0;34m)\u001b[0m\u001b[0;34m\u001b[0m\u001b[0;34m\u001b[0m\u001b[0m\n\u001b[1;32m      5\u001b[0m \u001b[0mprint\u001b[0m\u001b[0;34m(\u001b[0m\u001b[0mnext\u001b[0m\u001b[0;34m(\u001b[0m\u001b[0mai\u001b[0m\u001b[0;34m)\u001b[0m\u001b[0;34m)\u001b[0m\u001b[0;34m\u001b[0m\u001b[0;34m\u001b[0m\u001b[0m\n\u001b[0;32m----> 6\u001b[0;31m \u001b[0mprint\u001b[0m\u001b[0;34m(\u001b[0m\u001b[0mnext\u001b[0m\u001b[0;34m(\u001b[0m\u001b[0mai\u001b[0m\u001b[0;34m)\u001b[0m\u001b[0;34m)\u001b[0m\u001b[0;34m\u001b[0m\u001b[0;34m\u001b[0m\u001b[0m\n\u001b[0m",
            "\u001b[0;31mStopIteration\u001b[0m: "
          ]
        }
      ]
    },
    {
      "cell_type": "code",
      "source": [
        "a=[1,2,3]\n",
        "for x in a:\n",
        "  print(x+2)\n",
        "  \n",
        "\n",
        "#1. in 뒤에 있는 iterable을 iter()를 사용해 iterator로 만듦\n",
        "#2. 1번에서 생성된 iterator를 사용해 next(iterator) 수행해 x라는 이름을 부여함\n",
        "#3. for문의 statement를 수행\n",
        "#2번, 3번을 반복 수행하다가 StopIteration 가 발생되면 종료"
      ],
      "metadata": {
        "id": "CtpEWQYugSZ9"
      },
      "execution_count": null,
      "outputs": []
    },
    {
      "cell_type": "code",
      "source": [
        "help(sum)"
      ],
      "metadata": {
        "colab": {
          "base_uri": "https://localhost:8080/"
        },
        "id": "wJgwxUC1hwGQ",
        "outputId": "269a3a2e-1a85-40af-f455-26c77d2ae061"
      },
      "execution_count": 38,
      "outputs": [
        {
          "output_type": "stream",
          "name": "stdout",
          "text": [
            "Help on built-in function sum in module builtins:\n",
            "\n",
            "sum(iterable, start=0, /)\n",
            "    Return the sum of a 'start' value (default: 0) plus an iterable of numbers\n",
            "    \n",
            "    When the iterable is empty, return the start value.\n",
            "    This function is intended specifically for use with numeric values and may\n",
            "    reject non-numeric types.\n",
            "\n"
          ]
        }
      ]
    },
    {
      "cell_type": "code",
      "source": [
        "a = [[1,2],[3,4],[5,6]]\n",
        "for x in a:\n",
        "  h,w=x\n",
        "  print(h,w, end =':')\n",
        "  print(*x)"
      ],
      "metadata": {
        "colab": {
          "base_uri": "https://localhost:8080/"
        },
        "id": "i_wZeLeciFkY",
        "outputId": "b04e3e7e-24b6-4f65-dc0d-8459b178be17"
      },
      "execution_count": 44,
      "outputs": [
        {
          "output_type": "stream",
          "name": "stdout",
          "text": [
            "1 2:1 2\n",
            "3 4:3 4\n",
            "5 6:5 6\n"
          ]
        }
      ]
    },
    {
      "cell_type": "code",
      "source": [
        "a = [[1,2],[3,4],[5,6]]\n",
        "for x in a:\n",
        "  for i in x:\n",
        "    print(i, end =' ')\n",
        "  print()"
      ],
      "metadata": {
        "colab": {
          "base_uri": "https://localhost:8080/"
        },
        "id": "1One9zUbjBBB",
        "outputId": "d783f4c4-53be-4c19-b811-bb0b851f348e"
      },
      "execution_count": 47,
      "outputs": [
        {
          "output_type": "stream",
          "name": "stdout",
          "text": [
            "1 2 \n",
            "3 4 \n",
            "5 6 \n"
          ]
        }
      ]
    },
    {
      "cell_type": "markdown",
      "metadata": {
        "id": "4JxFeoAw8ZYx"
      },
      "source": [
        "### 2-04 for문 연습문제 1(합격, 불합격)\n",
        "- 총 5명 학생의 성적이 다음과 같을 때 시험 점수가 60점 이상이면 \"합격입니다.\"를 그렇지 않으면 \"불합격입니다.\"를 출력하세요.\n",
        "- 사용) result = [90, 35, 68, 44, 81]"
      ]
    },
    {
      "cell_type": "code",
      "execution_count": 48,
      "metadata": {
        "id": "1u-BKZYb5H33",
        "colab": {
          "base_uri": "https://localhost:8080/"
        },
        "outputId": "6390bc95-936e-4d69-f338-220c7da18090"
      },
      "outputs": [
        {
          "output_type": "stream",
          "name": "stdout",
          "text": [
            "합격입니다.\n",
            "불합격입니다.\n",
            "합격입니다.\n",
            "불합격입니다.\n",
            "합격입니다.\n"
          ]
        }
      ],
      "source": [
        "result = [90, 35, 68, 44, 81]\n",
        "\n",
        "# code here\n",
        "for score in result:\n",
        "  if score >= 60:\n",
        "    print(\"합격입니다.\")\n",
        "  else:\n",
        "    print(\"불합격입니다.\")\n"
      ]
    },
    {
      "cell_type": "code",
      "source": [
        "result = [90, 35, 68, 44, 81]\n",
        "\n",
        "for no, score in enumerate(result, start=1):\n",
        "  print(f'{no}번은 {score}점 이고 {\"불합격\" if score < 60 else \"합격\"}입니다.')\n"
      ],
      "metadata": {
        "colab": {
          "base_uri": "https://localhost:8080/"
        },
        "id": "iRk15AbDljis",
        "outputId": "144dd444-f1e3-4dd0-d80d-f7865437cb42"
      },
      "execution_count": 49,
      "outputs": [
        {
          "output_type": "stream",
          "name": "stdout",
          "text": [
            "1번은 90점 이고 합격입니다.\n",
            "2번은 35점 이고 불합격입니다.\n",
            "3번은 68점 이고 합격입니다.\n",
            "4번은 44점 이고 불합격입니다.\n",
            "5번은 81점 이고 합격입니다.\n"
          ]
        }
      ]
    },
    {
      "cell_type": "code",
      "source": [
        "a = enumerate('ABC', start=1)\n",
        "print(next(a))\n",
        "print(next(a))\n",
        "print(next(a))"
      ],
      "metadata": {
        "colab": {
          "base_uri": "https://localhost:8080/"
        },
        "id": "_lCEmYpBl50s",
        "outputId": "43f496b3-95c3-440f-a2b7-10e3575f83de"
      },
      "execution_count": 55,
      "outputs": [
        {
          "output_type": "stream",
          "name": "stdout",
          "text": [
            "(1, 'A')\n",
            "(2, 'B')\n",
            "(3, 'C')\n"
          ]
        }
      ]
    },
    {
      "cell_type": "code",
      "source": [
        "#conprehension -> 반복을 하는 expression (list/set/dict/generator comprehension)\n",
        "for n, r in enumerate(result, start=1)"
      ],
      "metadata": {
        "id": "5DpMcHUMnKhY"
      },
      "execution_count": null,
      "outputs": []
    },
    {
      "cell_type": "code",
      "execution_count": 57,
      "metadata": {
        "id": "BTr1WFsgZv8M",
        "colab": {
          "base_uri": "https://localhost:8080/"
        },
        "outputId": "dd6c0c9f-7419-4da1-d683-b5bf7c9a86d2"
      },
      "outputs": [
        {
          "output_type": "stream",
          "name": "stdout",
          "text": [
            "1번 학생은 합격입니다\n",
            "2번 학생은 불합격입니다\n",
            "3번 학생은 합격입니다\n",
            "4번 학생은 불합격입니다\n",
            "5번 학생은 합격입니다\n"
          ]
        }
      ],
      "source": [
        "# 추가코드 - for, if statement 없이 풀기 \n",
        "result = [90, 35, 68, 44, 81]\n",
        "def func(no, score):\n",
        "  return f\"{no}0번 학생은 {'합격' if score >=60 else '불합격'}입니다.\"\n",
        "\n",
        "A = [func(no,score) for no, score in enumerate(result, start=1)]\n",
        "r = '\\n'.join(f\"{n}번 학생은 {'합격' if r >= 60 else '불합격'}입니다\"\n",
        "          for n, r in enumerate(result, start=1))\n",
        "print(r)"
      ]
    },
    {
      "cell_type": "markdown",
      "metadata": {
        "id": "eaG4A8d5NM-j"
      },
      "source": [
        "### 2-05 range를 이용한 for문\n",
        "- range() 함수를 사용하여 일련의 숫자 범위 생성\n",
        "- 사용방법 : \n",
        "   - range(stop)\n",
        "   - range(start, stop)\n",
        "   - range(start, stop, step)\n",
        "   - step의 기본값은 1"
      ]
    },
    {
      "cell_type": "code",
      "source": [
        "import sys\n",
        "a = range(10000)\n",
        "b = list(a)\n",
        "sys.getsizeof(a), sys.getsizeof(b)\n",
        "  #container : slowt에 객체의 주소를 기록\n",
        "  # range=>start,stop,s의 3개의 정수 객체를 저장하는 int만 가지고 있음\n",
        "  #list,tuple.set ....->(item의 개수 또는 그 사이의 개수 list를 새)"
      ],
      "metadata": {
        "colab": {
          "base_uri": "https://localhost:8080/"
        },
        "id": "ZhgWb4e79eZ7",
        "outputId": "19068593-9a9f-4d3c-955e-a1e6bb0f2f5c"
      },
      "execution_count": 60,
      "outputs": [
        {
          "output_type": "execute_result",
          "data": {
            "text/plain": [
              "(48, 90120)"
            ]
          },
          "metadata": {},
          "execution_count": 60
        }
      ]
    },
    {
      "cell_type": "code",
      "execution_count": 58,
      "metadata": {
        "id": "rfTby6Pr5H3_",
        "colab": {
          "base_uri": "https://localhost:8080/"
        },
        "outputId": "17dfd855-1399-437e-b702-519432f9efa1"
      },
      "outputs": [
        {
          "output_type": "stream",
          "name": "stdout",
          "text": [
            "0\n",
            "1\n",
            "2\n",
            "3\n",
            "4\n",
            "5\n",
            "6\n",
            "7\n",
            "8\n",
            "9\n"
          ]
        }
      ],
      "source": [
        "for i in range(0, 10):\n",
        "    print(i)"
      ]
    },
    {
      "cell_type": "code",
      "execution_count": 76,
      "metadata": {
        "id": "6JkNtx3vaTb7",
        "colab": {
          "base_uri": "https://localhost:8080/"
        },
        "outputId": "2255763a-2959-4ecb-9d64-c16afd311704"
      },
      "outputs": [
        {
          "output_type": "stream",
          "name": "stdout",
          "text": [
            "[0, 1, 2, 3, 4, 5, 6, 7, 8, 9]\n"
          ]
        }
      ],
      "source": [
        "r = range(10)\n",
        "print(list(r))"
      ]
    },
    {
      "cell_type": "code",
      "execution_count": 77,
      "metadata": {
        "id": "SFunDUJSaTUJ",
        "colab": {
          "base_uri": "https://localhost:8080/"
        },
        "outputId": "7d8147ef-5fd1-4476-81fc-f90f97d995a6"
      },
      "outputs": [
        {
          "output_type": "stream",
          "name": "stdout",
          "text": [
            "[0, 1, 2, 3, 4, 5, 6, 7, 8, 9, 10, 11, 12, 13, 14, 15, 16, 17, 18, 19]\n"
          ]
        }
      ],
      "source": [
        "r = range(0,20)\n",
        "print(list(r))"
      ]
    },
    {
      "cell_type": "code",
      "execution_count": 78,
      "metadata": {
        "id": "nPU2_oZCaTMl",
        "colab": {
          "base_uri": "https://localhost:8080/"
        },
        "outputId": "ab4675bc-0c47-4e39-8c23-32ca6951d846"
      },
      "outputs": [
        {
          "output_type": "stream",
          "name": "stdout",
          "text": [
            "0 2 4 6 8 10 12 14 16 18\n"
          ]
        }
      ],
      "source": [
        "r = range(0,20,2)\n",
        "print(*list(r))"
      ]
    },
    {
      "cell_type": "markdown",
      "metadata": {
        "id": "LkbFiY2h88hW"
      },
      "source": [
        "### 2-06 for문 연습문제 2(1~100의 합)"
      ]
    },
    {
      "cell_type": "code",
      "execution_count": 65,
      "metadata": {
        "id": "AwTZ27qv5H4C",
        "colab": {
          "base_uri": "https://localhost:8080/"
        },
        "outputId": "643013c2-cf77-48f8-954e-43458eebac44"
      },
      "outputs": [
        {
          "output_type": "stream",
          "name": "stdout",
          "text": [
            "5050\n"
          ]
        }
      ],
      "source": [
        "# for문과 range() 함수를 이용하여 1부터 100까지의 합을 구해 출력하는 프로그램 작성\n",
        "# code here\n",
        "tot=0\n",
        "for i in range(1,101):\n",
        "  tot += i\n",
        "print(tot)\n",
        "#print(sum(range(1, 101)))"
      ]
    },
    {
      "cell_type": "markdown",
      "metadata": {
        "id": "Q4FG0eLNN30b"
      },
      "source": [
        "### 2-07 for 반복문의 중첩\n",
        "\n",
        "        for <variable> in <iterable(list, tuple, str, ...)>:\n",
        "        <탭> for <variable> in <iterable(list, tuple, str, ...)> :\n",
        "             <탭> statement"
      ]
    },
    {
      "cell_type": "code",
      "execution_count": 73,
      "metadata": {
        "colab": {
          "base_uri": "https://localhost:8080/"
        },
        "id": "7f-tNY6_5H4F",
        "outputId": "3aca9bc1-d6b9-485e-ce11-bd9ff7197673"
      },
      "outputs": [
        {
          "output_type": "stream",
          "name": "stdout",
          "text": [
            "1 2 3 4 5 6 7 8 9 10 "
          ]
        }
      ],
      "source": [
        "# 2차원 test2D의 값을 for 반복문의 중첩을 이용하여 출력하세요\n",
        "\n",
        "test2D = [[1,2,3],[4,5,6],[7,8,9,10]]\n",
        "for x in test2D:\n",
        "  for y in x:\n",
        "    print(y,end=' ')\n"
      ]
    },
    {
      "cell_type": "code",
      "source": [
        "test2D = [[1,2,3],[4,5,6],[7,8,9,10]]\n",
        "for x in test2D:\n",
        "  print(*x, end=' ')"
      ],
      "metadata": {
        "colab": {
          "base_uri": "https://localhost:8080/"
        },
        "id": "AXg9tGRZByyM",
        "outputId": "412b2ae6-2da4-4dc9-b6b3-53f7462d6e2e"
      },
      "execution_count": 75,
      "outputs": [
        {
          "output_type": "stream",
          "name": "stdout",
          "text": [
            "1 2 3 4 5 6 7 8 9 10 "
          ]
        }
      ]
    },
    {
      "cell_type": "code",
      "source": [
        "test2D = [[1,2,3],[4,5,6],[7,8,9,10]]\n",
        "\n",
        "for i in range(len(test2D)):\n",
        "    for j in range(len(test2D[i])):\n",
        "        print(test2D[i][j], end =\" \")"
      ],
      "metadata": {
        "colab": {
          "base_uri": "https://localhost:8080/"
        },
        "id": "W3vr_SEaBXT5",
        "outputId": "beca1c2d-7a5d-4f9d-b141-498c23897d95"
      },
      "execution_count": 74,
      "outputs": [
        {
          "output_type": "stream",
          "name": "stdout",
          "text": [
            "1 2 3 4 5 6 7 8 9 10 "
          ]
        }
      ]
    },
    {
      "cell_type": "markdown",
      "metadata": {
        "id": "1FoI_CMo9pii"
      },
      "source": [
        "### 2-08 for문 연습문제 3(2~9단 출력)"
      ]
    },
    {
      "cell_type": "code",
      "execution_count": 81,
      "metadata": {
        "colab": {
          "base_uri": "https://localhost:8080/"
        },
        "id": "NPG7CElU5H4H",
        "outputId": "37dd9d13-be43-40a3-b91a-47e194cdfc0f"
      },
      "outputs": [
        {
          "output_type": "stream",
          "name": "stdout",
          "text": [
            " 2  4  6  8 10 12 14 16 18 \n",
            " 3  6  9 12 15 18 21 24 27 \n",
            " 4  8 12 16 20 24 28 32 36 \n",
            " 5 10 15 20 25 30 35 40 45 \n",
            " 6 12 18 24 30 36 42 48 54 \n",
            " 7 14 21 28 35 42 49 56 63 \n",
            " 8 16 24 32 40 48 56 64 72 \n",
            " 9 18 27 36 45 54 63 72 81 \n"
          ]
        }
      ],
      "source": [
        "# 2단부터 9단까지의 구구단을 출력하는 프로그램을 구현해 보자\n",
        "# 출력은 print(f'{dan*no:2d}', end=' ') 을 사용한다\n",
        "# code here\n",
        "for dan in range(2,10):\n",
        "  for no in range(1,10):\n",
        "    print(f'{dan*no:2d}', end=' ')\n",
        "  print()\n"
      ]
    },
    {
      "cell_type": "markdown",
      "metadata": {
        "id": "p4f5jU_6PUGz"
      },
      "source": [
        "### 2-09 break, continue, pass\n",
        "- break : 현재 속한 반복문 종료\n",
        "- continue : 현재 반복에 대해 루프 내부의 나머지 코드를 건너뛰는데 사용\n",
        "- pass : 아무 작업도 수행하지 않음, 임시 함수, 무한 반복문 작성시 사용"
      ]
    },
    {
      "cell_type": "code",
      "execution_count": 84,
      "metadata": {
        "id": "_fgs5zVk5H4T",
        "colab": {
          "base_uri": "https://localhost:8080/"
        },
        "outputId": "542434d1-d6ea-4f73-f929-86ca3fbb7c28"
      },
      "outputs": [
        {
          "output_type": "stream",
          "name": "stdout",
          "text": [
            "0 1 3 4 "
          ]
        }
      ],
      "source": [
        "for i in range(10):\n",
        "    if i == 2:\n",
        "        continue\n",
        "    if i == 5:\n",
        "        break\n",
        "    print(i, end=' ')"
      ]
    },
    {
      "cell_type": "code",
      "execution_count": null,
      "metadata": {
        "id": "-us6LSiHPkMh"
      },
      "outputs": [],
      "source": [
        "def myfunc():\n",
        "    pass\n",
        "\n",
        "# 무한 반복\n",
        "while True:\n",
        "    pass"
      ]
    },
    {
      "cell_type": "markdown",
      "metadata": {
        "id": "3x8pT0lHPrJC"
      },
      "source": [
        "## 3.comprehensions\n",
        "- 특정 자료구조의 각 원소에 대해 식을 적용한 결과를 새로운 list, set, dict로 생성\n",
        "- List Comprehension\n",
        "  - ``` [<expression> for <target_list> in <iterable> if <condition>]```\n",
        "- Set Comprehension\n",
        "  - ``` {<expression> for <target_list> in <iterable> if <condition>}```\n",
        "- Dict Comprehension\n",
        "  - ``` { K:V for <target_list> in <iterable> if <condition>}  ```  "
      ]
    },
    {
      "cell_type": "code",
      "execution_count": null,
      "metadata": {
        "colab": {
          "base_uri": "https://localhost:8080/"
        },
        "id": "CNlWqphZQuzf",
        "outputId": "0ffac5d6-af9d-4ad8-8823-81f79ec58e6b"
      },
      "outputs": [
        {
          "data": {
            "text/plain": [
              "[0, 1, 4, 9, 16, 25, 36, 49, 64, 81]"
            ]
          },
          "execution_count": 14,
          "metadata": {
            "tags": []
          },
          "output_type": "execute_result"
        }
      ],
      "source": [
        "s = [x**2 for x in range(10)]\n",
        "s"
      ]
    },
    {
      "cell_type": "code",
      "execution_count": null,
      "metadata": {
        "colab": {
          "base_uri": "https://localhost:8080/"
        },
        "id": "F3xNfx6EQ0D2",
        "outputId": "74901cd5-d99d-47dc-bf7a-3ac428c1d676"
      },
      "outputs": [
        {
          "data": {
            "text/plain": [
              "[1, 2, 4, 8, 16, 32, 64, 128, 256, 512, 1024, 2048, 4096]"
            ]
          },
          "execution_count": 15,
          "metadata": {
            "tags": []
          },
          "output_type": "execute_result"
        }
      ],
      "source": [
        "v = [2**x for x in range(13)]\n",
        "v"
      ]
    },
    {
      "cell_type": "code",
      "execution_count": 87,
      "metadata": {
        "colab": {
          "base_uri": "https://localhost:8080/"
        },
        "id": "6nTBXgqQQ4Sc",
        "outputId": "bd887a6f-296b-4162-8802-454b6626e649"
      },
      "outputs": [
        {
          "output_type": "execute_result",
          "data": {
            "text/plain": [
              "[0, 4, 16, 36, 64]"
            ]
          },
          "metadata": {},
          "execution_count": 87
        }
      ],
      "source": [
        "s = [x**2 for x in range(10)]\n",
        "m = [x for x in s if x%2 == 0]\n",
        "m"
      ]
    },
    {
      "cell_type": "code",
      "source": [
        "s = [x**2 for x in range(10)]\n",
        "m = [x for x in s if not x % 2]\n",
        "m"
      ],
      "metadata": {
        "colab": {
          "base_uri": "https://localhost:8080/"
        },
        "id": "C-dIXv1cKoty",
        "outputId": "03fafa46-5015-447f-f454-b3742d6e486d"
      },
      "execution_count": 88,
      "outputs": [
        {
          "output_type": "execute_result",
          "data": {
            "text/plain": [
              "[0, 4, 16, 36, 64]"
            ]
          },
          "metadata": {},
          "execution_count": 88
        }
      ]
    },
    {
      "cell_type": "code",
      "execution_count": 89,
      "metadata": {
        "colab": {
          "base_uri": "https://localhost:8080/"
        },
        "id": "0Qny6G3URATR",
        "outputId": "591669bb-997e-43bc-ec10-a6639bced1f5"
      },
      "outputs": [
        {
          "output_type": "execute_result",
          "data": {
            "text/plain": [
              "{0, 1, 4, 9, 16, 25, 36, 49, 64, 81}"
            ]
          },
          "metadata": {},
          "execution_count": 89
        }
      ],
      "source": [
        "s = {x**2 for x in range(10)}\n",
        "s"
      ]
    },
    {
      "cell_type": "code",
      "execution_count": 90,
      "metadata": {
        "colab": {
          "base_uri": "https://localhost:8080/"
        },
        "id": "QY3JT7i_REpU",
        "outputId": "13a4e4fd-7f19-4aa9-d089-de6b217dbf6a"
      },
      "outputs": [
        {
          "output_type": "execute_result",
          "data": {
            "text/plain": [
              "{10: 'a', 20: 'b', 30: 'c'}"
            ]
          },
          "metadata": {},
          "execution_count": 90
        }
      ],
      "source": [
        "a_dict = {'a':10, 'b':20, 'c':30}\n",
        "d = {value:key for key, value in a_dict.items()}\n",
        "d"
      ]
    },
    {
      "cell_type": "markdown",
      "metadata": {
        "id": "rZfE7L4m5H4X"
      },
      "source": [
        "## 4.함수\n",
        "- 특정 작업을 수행하는 명령문의 그룹\n",
        "- 함수는 프로그램의 기능 단위로 모듈을 구성하는데 사용\n",
        "- 프로그램이 점점 복잡해지고 커질 때, 함수를 사용하면 보다 체계적이고 관리도 편리함\n",
        "- 코드의 반복을 피할 수 있고 코드의 재사용이 가능\n"
      ]
    },
    {
      "cell_type": "markdown",
      "metadata": {
        "id": "D5PKAM30SSBO"
      },
      "source": [
        "함수의 기본 정의\n",
        "\n",
        "        def 함수명(입력 매개변수):\n",
        "           \"\"\"doc string\"\"\"\n",
        "           statement\n",
        "           return 리턴값"
      ]
    },
    {
      "cell_type": "markdown",
      "metadata": {
        "id": "R_5zrUNxR5ZB"
      },
      "source": [
        "함수의 구성요소\n",
        "- 키워드 def는 함수의 시작을 표시\n",
        "- 함수 명은 고유하게 식별 가능해야 하고, 식별자 작성 규칙을 따름\n",
        "- 함수에 값을 전달하는 입력 매개변수(argument)는선택 사항임\n",
        "- 함수 헤더의 끝은 콜론(:)으로 표시\n",
        "- 선택적 문서 문자열(docstring)은 함수가 수행하는 작업을 설명함\n",
        "- 함수 본문은 하나 이상의 파이썬 문(statement)으로 이루어지고, 문(statement)은 동일한 들여쓰기가 적용 되어야 함\n",
        "- 함수에서 값을 반환하는 return문은 선택 사항"
      ]
    },
    {
      "cell_type": "markdown",
      "metadata": {
        "id": "3ukGDZDpSYwx"
      },
      "source": [
        "### 4-01 함수의 형태"
      ]
    },
    {
      "cell_type": "code",
      "execution_count": 91,
      "metadata": {
        "id": "Xo6Rtg_J5H4b",
        "colab": {
          "base_uri": "https://localhost:8080/"
        },
        "outputId": "d7ceaa13-8eff-4d65-a3bc-e50765d9dc77"
      },
      "outputs": [
        {
          "output_type": "execute_result",
          "data": {
            "text/plain": [
              "3"
            ]
          },
          "metadata": {},
          "execution_count": 91
        }
      ],
      "source": [
        "# 일반 형태 - 입력, 결과 모두 있는 형태\n",
        "def func(a, b):\n",
        "    return a+b\n",
        "    \n",
        "func(1,2)"
      ]
    },
    {
      "cell_type": "code",
      "source": [
        "# 3개의 숫자를 입력받아 모두 더한 결과를 반환하는 함수 작성\n",
        "def hap(a, b, c):\n",
        "  return a+b+c\n",
        "\n",
        "num1 = int(input('첫번째 숫자 입력: '))\n",
        "num2 = int(input('두번째 숫자 입력: '))\n",
        "num3 = int(input('세번째 숫자 입력: '))\n",
        "hap(num1, num2, num3)"
      ],
      "metadata": {
        "colab": {
          "base_uri": "https://localhost:8080/"
        },
        "id": "xwawEP36OrDT",
        "outputId": "36f770fd-f073-429f-a115-06000ef1eb1d"
      },
      "execution_count": 96,
      "outputs": [
        {
          "name": "stdout",
          "output_type": "stream",
          "text": [
            "첫번째 숫자 입력: 5\n",
            "두번째 숫자 입력: 6\n",
            "세번째 숫자 입력: 7\n"
          ]
        },
        {
          "output_type": "execute_result",
          "data": {
            "text/plain": [
              "18"
            ]
          },
          "metadata": {},
          "execution_count": 96
        }
      ]
    },
    {
      "cell_type": "code",
      "source": [
        "#bmi=(w+100-h)\n",
        "def bmi(h,w):\n",
        "  return w+100-h\n",
        "\n",
        "bmi(100,50)"
      ],
      "metadata": {
        "colab": {
          "base_uri": "https://localhost:8080/"
        },
        "id": "BIUucySgPoBp",
        "outputId": "79170027-8da1-429a-8f0c-7de080c37f3b"
      },
      "execution_count": 97,
      "outputs": [
        {
          "output_type": "execute_result",
          "data": {
            "text/plain": [
              "50"
            ]
          },
          "metadata": {},
          "execution_count": 97
        }
      ]
    },
    {
      "cell_type": "code",
      "execution_count": 98,
      "metadata": {
        "colab": {
          "base_uri": "https://localhost:8080/",
          "height": 53
        },
        "id": "QcCnAXzeS-LS",
        "outputId": "553e9dd0-9150-4ab6-aa5d-864e2349144f"
      },
      "outputs": [
        {
          "output_type": "stream",
          "name": "stdout",
          "text": [
            "hello\n"
          ]
        },
        {
          "output_type": "execute_result",
          "data": {
            "text/plain": [
              "'Mission clear'"
            ],
            "application/vnd.google.colaboratory.intrinsic+json": {
              "type": "string"
            }
          },
          "metadata": {},
          "execution_count": 98
        }
      ],
      "source": [
        "# 입력값 없는 형태\n",
        "def func():\n",
        "    print('hello')\n",
        "    return 'Mission clear'\n",
        "\n",
        "func()"
      ]
    },
    {
      "cell_type": "code",
      "execution_count": 100,
      "metadata": {
        "colab": {
          "base_uri": "https://localhost:8080/"
        },
        "id": "xLajF9Za5H4X",
        "outputId": "15f3597d-6869-46db-8a5c-74fc738c1367"
      },
      "outputs": [
        {
          "output_type": "stream",
          "name": "stdout",
          "text": [
            "3\n",
            "None\n"
          ]
        }
      ],
      "source": [
        "# 결과값 없는 형태\n",
        "def func(a, b):\n",
        "    print(a + b)\n",
        "\n",
        "r=func(1, 2)\n",
        "print(r)"
      ]
    },
    {
      "cell_type": "code",
      "execution_count": 101,
      "metadata": {
        "colab": {
          "base_uri": "https://localhost:8080/"
        },
        "id": "zkK1pkInTRpy",
        "outputId": "4138097a-5811-4c5f-f718-1b9170484a69"
      },
      "outputs": [
        {
          "output_type": "stream",
          "name": "stdout",
          "text": [
            "hello\n"
          ]
        }
      ],
      "source": [
        "# 입력값, 결과값 모두 없는 형태\n",
        "def func():\n",
        "    print('hello')\n",
        "\n",
        "func()"
      ]
    },
    {
      "cell_type": "markdown",
      "metadata": {
        "id": "-KURnegxTifn"
      },
      "source": [
        "### 4-02 함수의 동작 프로세스\n",
        "- 함수의 정의\n",
        "    - 함수를 정의하는 것이므로 test라는 함수를 메모리에 올리는 동작만 수행\n",
        "    - 해당 코드를 실행하면 아무런 출력 값이 없음\n",
        "    - 해당 코드를 실행함으로써 test라는 함수를 사용할 수 있게 됨\n",
        "- 함수 호출(실행)\n",
        "    - 해당 코드를 실행시켜 주면 test함수를 호출하여 함수 내부의 코드(print문)를 수행\n",
        "    - test함수는 return이 존재하는 함수이므로 호출한 곳에 arg*10 값을 반환\n",
        "    - 반환된 arg*10 값이 출력"
      ]
    },
    {
      "cell_type": "code",
      "execution_count": null,
      "metadata": {
        "colab": {
          "base_uri": "https://localhost:8080/"
        },
        "id": "3HAaNSIrT4Fa",
        "outputId": "d47d29e1-6480-432b-dd71-63e8a72bc5c7"
      },
      "outputs": [
        {
          "name": "stdout",
          "output_type": "stream",
          "text": [
            "10 : 입력매개 변수입니다\n"
          ]
        },
        {
          "data": {
            "text/plain": [
              "100"
            ]
          },
          "execution_count": 25,
          "metadata": {
            "tags": []
          },
          "output_type": "execute_result"
        }
      ],
      "source": [
        "# parameter(=name) : arg\n",
        "# argument(=object) : 10\n",
        "def test(arg):\n",
        "    print(arg, ': 입력매개 변수입니다')\n",
        "    return arg * 10\n",
        "\n",
        "test(10)"
      ]
    },
    {
      "cell_type": "markdown",
      "metadata": {
        "id": "ONgsc9g2UB6k"
      },
      "source": [
        "### 4-03 함수 호출,  return\n",
        "- 함수 호출\n",
        "    - 함수를 정의한 후에는 다른 함수, 프로그램 등에서 호출\n",
        "    - 함수를 호출하기 위해서는 적절한 매개변수를사용하여 호출\n",
        "- return 문\n",
        "    - return 문은 함수를 종료하고 함수를 호출한 곳으로 돌아가는데 사용\n",
        "    - 예 : return 표현식 목록\n",
        "    - return 문은 평가되는 표현식이나값을 리턴\n",
        "    - return 문에 표현식이 없거나 return문 자체가 없으면 함수는 None 객체를 리턴"
      ]
    },
    {
      "cell_type": "code",
      "execution_count": 1,
      "metadata": {
        "colab": {
          "base_uri": "https://localhost:8080/"
        },
        "id": "DtHy0BJyURTY",
        "outputId": "8a2ed951-68b0-442f-acc2-f87156d332fb"
      },
      "outputs": [
        {
          "output_type": "stream",
          "name": "stdout",
          "text": [
            "10\n"
          ]
        }
      ],
      "source": [
        "def func(x):\n",
        "    return x\n",
        "\n",
        "r = func(10)\n",
        "print(r)"
      ]
    },
    {
      "cell_type": "code",
      "execution_count": 2,
      "metadata": {
        "colab": {
          "base_uri": "https://localhost:8080/"
        },
        "id": "jSPEihY8UVgd",
        "outputId": "123d2c75-dadc-4d36-a143-3609b78bb716"
      },
      "outputs": [
        {
          "output_type": "stream",
          "name": "stdout",
          "text": [
            "10\n",
            "None\n"
          ]
        }
      ],
      "source": [
        "def func(x):\n",
        "    print(x)\n",
        "\n",
        "r = func(10)\n",
        "print(r)"
      ]
    },
    {
      "cell_type": "markdown",
      "metadata": {
        "id": "wOlpPfB8U_-u"
      },
      "source": [
        "### 4-04 argument의 종류\n",
        "- 함수의 호출시 사용되는 argument    \n",
        "    - positional argument : 위치에 따라 값이 전달되는 방식\n",
        "    - keyword argument : = 를 사용하여 특정 parameter에 값을 제공함, 순서에 상관 없음\n",
        "- 함수 정의시 사용되는 argument\n",
        "    - default argument : 새로운 argument가 전달되지 않을 경우 사용되는 기본 값\n",
        "- Python의 argument rule\n",
        "     1. 함수 정의 시 : non-default argument가 앞, default argument가 뒤에 위치해야 한다.\n",
        "     2. 함수 호출 시 : positional argument가 앞, keyword argument가 뒤에 위치해야 한다."
      ]
    },
    {
      "cell_type": "markdown",
      "metadata": {
        "id": "2MO2Nv8c5H4h"
      },
      "source": [
        "#### 4-04-01 위치 인수 (positional argument)\n",
        "- argument 위치에 맞게 값이 전달되는 방식\n",
        "- 가장 기본적인 argument 전달 방식\n"
      ]
    },
    {
      "cell_type": "code",
      "execution_count": null,
      "metadata": {
        "colab": {
          "base_uri": "https://localhost:8080/"
        },
        "id": "_6w9OCDM5H4h",
        "outputId": "1b674c29-e186-4506-e594-6daccca6dd34"
      },
      "outputs": [
        {
          "data": {
            "text/plain": [
              "7"
            ]
          },
          "execution_count": 31,
          "metadata": {
            "tags": []
          },
          "output_type": "execute_result"
        }
      ],
      "source": [
        "def myAdd(num1, num2):\n",
        "    return num1 + num2\n",
        "\n",
        "r1 = myAdd(3,4)\n",
        "r1"
      ]
    },
    {
      "cell_type": "markdown",
      "metadata": {
        "id": "Sv_MebByVUyh"
      },
      "source": [
        "#### 4-04-02 기본 인수(default argument)\n",
        "- 함수 정의 시 할당 연산자(=)를 사용하여 매개변수에 기본값을설정\n",
        "- 함수 정의 시 기본값이 없는 매개변수는 기본값 매개변수 뒤에 있을 수 없음\n",
        "- 함수 호출 시 기본 매개변수의 값을 전달하지\n",
        "않아도 됨\n",
        "- 값 전달 시 기본값을 덮어 씀"
      ]
    },
    {
      "cell_type": "code",
      "execution_count": 3,
      "metadata": {
        "id": "KxnGMuyB5H4n"
      },
      "outputs": [],
      "source": [
        "def mysum(end, start=0):\n",
        "    tot = 0\n",
        "    for i in range(start, end+1):\n",
        "        tot += i\n",
        "    return tot"
      ]
    },
    {
      "cell_type": "code",
      "execution_count": 4,
      "metadata": {
        "id": "u4SrJImN5H4p",
        "colab": {
          "base_uri": "https://localhost:8080/"
        },
        "outputId": "7251b4d5-66aa-4dbb-acbc-fba2c5cddd74"
      },
      "outputs": [
        {
          "output_type": "execute_result",
          "data": {
            "text/plain": [
              "55"
            ]
          },
          "metadata": {},
          "execution_count": 4
        }
      ],
      "source": [
        "mysum(10)"
      ]
    },
    {
      "cell_type": "code",
      "execution_count": 5,
      "metadata": {
        "id": "SKBrugaW5H4t",
        "colab": {
          "base_uri": "https://localhost:8080/"
        },
        "outputId": "2dee6663-596d-40ce-ee43-82448e32805b"
      },
      "outputs": [
        {
          "output_type": "execute_result",
          "data": {
            "text/plain": [
              "45"
            ]
          },
          "metadata": {},
          "execution_count": 5
        }
      ],
      "source": [
        "mysum(10,5)"
      ]
    },
    {
      "cell_type": "markdown",
      "metadata": {
        "id": "zqnOrSUM5H4w"
      },
      "source": [
        "#### 4-04-03 키워드 인수(keyword argument)"
      ]
    },
    {
      "cell_type": "code",
      "execution_count": 9,
      "metadata": {
        "id": "Ze2QUhaM5H4x"
      },
      "outputs": [],
      "source": [
        "def printinfo(name, age):\n",
        "    print('name :',name,', age :',age)"
      ]
    },
    {
      "cell_type": "code",
      "source": [
        "printinfo('홍길동', age=33)"
      ],
      "metadata": {
        "colab": {
          "base_uri": "https://localhost:8080/"
        },
        "id": "8fF94Iv4YjH5",
        "outputId": "5153ee4c-8279-4db4-905c-503f2c256a72"
      },
      "execution_count": 12,
      "outputs": [
        {
          "output_type": "stream",
          "name": "stdout",
          "text": [
            "name : 홍길동 , age : 33\n"
          ]
        }
      ]
    },
    {
      "cell_type": "code",
      "execution_count": 10,
      "metadata": {
        "id": "9WzNCnAI5H4z",
        "colab": {
          "base_uri": "https://localhost:8080/"
        },
        "outputId": "082267a5-6062-4884-a85e-3189d72fd6c1"
      },
      "outputs": [
        {
          "output_type": "stream",
          "name": "stdout",
          "text": [
            "name : 홍길동 , age : 33\n"
          ]
        }
      ],
      "source": [
        "printinfo(name='홍길동', age=33)"
      ]
    },
    {
      "cell_type": "code",
      "execution_count": 11,
      "metadata": {
        "id": "WmYW-0Q_5H41",
        "colab": {
          "base_uri": "https://localhost:8080/"
        },
        "outputId": "e80e5bbe-9d26-49cc-c31b-801e2ba08803"
      },
      "outputs": [
        {
          "output_type": "stream",
          "name": "stdout",
          "text": [
            "name : 홍길동 , age : 33\n"
          ]
        }
      ],
      "source": [
        "printinfo(age=33, name='홍길동')"
      ]
    },
    {
      "cell_type": "code",
      "source": [
        "def myfunc(a, b=0, c=10):\n",
        "  return [a,b,c]\n",
        "\n",
        "#최소 전달 객체 개수는?\n",
        "A = myfunc(2)\n",
        "\n",
        "#a,b,c 값을 맞춰 보세요\n",
        "\n",
        "B = myfunc(5,7,12)\n",
        "\n",
        "C = myfunc(2, c=5, b=10) #[2,10,5]\n",
        "\n",
        "D = myfunc(b=5, a=20) #[20,5,10]\n",
        "\n",
        "print(A,B,C,D)"
      ],
      "metadata": {
        "colab": {
          "base_uri": "https://localhost:8080/"
        },
        "id": "JCj5fC99Y2Sr",
        "outputId": "e7abfc8c-783c-4fe2-bdba-acbeae19c190"
      },
      "execution_count": 16,
      "outputs": [
        {
          "output_type": "stream",
          "name": "stdout",
          "text": [
            "[2, 0, 10] [5, 7, 12] [2, 10, 5] [20, 5, 10]\n"
          ]
        }
      ]
    },
    {
      "cell_type": "markdown",
      "metadata": {
        "id": "XVA1m9m3WLL3"
      },
      "source": [
        "### 4-05 parameter의 종류\n",
        "- positional or keyword parameter : 앞쪽에 * , 없고, 뒤쪽에 , / 없음\n",
        "- positional only parameter : 뒤쪽에 , / 있음\n",
        "- keyword only parameter : 앞쪽에 * , 있음\n",
        "- var positional parameter : 이름 앞에 * (별이 한 개) 있음  \n",
        "- var keyword parameter : 이름 앞에 ** (별이 두 개) 있음\n",
        "- var keyword parameter는 단독으로 사용하거나, 마지막에만 사용함\n",
        "- var positional, var keyword 는 default argument를 가질 수 없음"
      ]
    },
    {
      "cell_type": "code",
      "source": [
        "# a : positional only\n",
        "# b : positional or keyword\n",
        "# c : keyword only\n",
        "def func(a,/, b, *, c):\n",
        "  return [a,b,c]\n",
        "\n",
        "func(1,2,3)"
      ],
      "metadata": {
        "colab": {
          "base_uri": "https://localhost:8080/",
          "height": 136
        },
        "id": "HQbPU0pedoGV",
        "outputId": "c432ed64-1ab4-414d-8ea3-42ecadbbf9e5"
      },
      "execution_count": 20,
      "outputs": [
        {
          "output_type": "error",
          "ename": "SyntaxError",
          "evalue": "ignored",
          "traceback": [
            "\u001b[0;36m  File \u001b[0;32m\"<ipython-input-20-19fafbea178c>\"\u001b[0;36m, line \u001b[0;32m4\u001b[0m\n\u001b[0;31m    def func(a,/, b, *, c):\u001b[0m\n\u001b[0m               ^\u001b[0m\n\u001b[0;31mSyntaxError\u001b[0m\u001b[0;31m:\u001b[0m invalid syntax\n"
          ]
        }
      ]
    },
    {
      "cell_type": "code",
      "execution_count": 21,
      "metadata": {
        "id": "LQlxJRJxXM_r",
        "colab": {
          "base_uri": "https://localhost:8080/"
        },
        "outputId": "5b170933-da99-450e-f243-0e0977dc9920"
      },
      "outputs": [
        {
          "output_type": "execute_result",
          "data": {
            "text/plain": [
              "[1, 2]"
            ]
          },
          "metadata": {},
          "execution_count": 21
        }
      ],
      "source": [
        "# positional or keyword parameter\n",
        "def func1(a, b):\n",
        "    return [a, b]\n",
        "\n",
        "func1(1, 2)\n",
        "func1(b=3, a=1)\n",
        "func1(1, b=2)"
      ]
    },
    {
      "cell_type": "code",
      "execution_count": null,
      "metadata": {
        "id": "Jt5E55AxXSrz"
      },
      "outputs": [],
      "source": [
        "# positional only parameter\n",
        "# colab 은 실행 안됨 (버전이 3.8이상이어야 동작함)\n",
        "def func2(a, b, /):\n",
        "    return [a, b]\n",
        "\n",
        "func2(1, 2)"
      ]
    },
    {
      "cell_type": "code",
      "execution_count": null,
      "metadata": {
        "id": "pbIF7FQGXf9W"
      },
      "outputs": [],
      "source": [
        "# keyword only parameter\n",
        "def func3(*, a, b):\n",
        "    return [a, b]\n",
        "\n",
        "func3(a=1, b=2)"
      ]
    },
    {
      "cell_type": "markdown",
      "metadata": {
        "id": "QrozVFnS5H45"
      },
      "source": [
        "#### 4-05-01 가변 위치 매개변수(var-positional parameter)"
      ]
    },
    {
      "cell_type": "code",
      "source": [
        "#일반적으로 반대의 동작에 대해 동일한 연산자를 사용해요\n",
        "\n",
        "a=1,2,3,4\n",
        "#함수 정의시 *arg : pack  pack은 콤마로 나열된 객체들을 tuple로 묶기\n",
        "def func(*arg):\n",
        "  print(type(arg))\n",
        "  print(*arg) # 함수 호출시 *arg : unpack 묶음을 나열된 객체로.\n",
        "\n",
        "func(1,2,3,4)"
      ],
      "metadata": {
        "colab": {
          "base_uri": "https://localhost:8080/"
        },
        "id": "wt_q107ij1eG",
        "outputId": "756d8fcc-b6a9-4f33-e68e-00bf4c3962eb"
      },
      "execution_count": 23,
      "outputs": [
        {
          "output_type": "stream",
          "name": "stdout",
          "text": [
            "<class 'tuple'>\n",
            "1 2 3 4\n"
          ]
        }
      ]
    },
    {
      "cell_type": "code",
      "execution_count": 24,
      "metadata": {
        "id": "FtsjT8es5H45"
      },
      "outputs": [],
      "source": [
        "# var-positional parameter\n",
        "def add(*args):\n",
        "    tot = 0\n",
        "    for i in args:\n",
        "        tot += i\n",
        "    return tot"
      ]
    },
    {
      "cell_type": "code",
      "execution_count": 25,
      "metadata": {
        "id": "3qlxOjRD5H49",
        "colab": {
          "base_uri": "https://localhost:8080/"
        },
        "outputId": "60a4a562-b2ae-40ab-9d01-dfec6291d5e5"
      },
      "outputs": [
        {
          "output_type": "execute_result",
          "data": {
            "text/plain": [
              "6"
            ]
          },
          "metadata": {},
          "execution_count": 25
        }
      ],
      "source": [
        "add(1,2,3)"
      ]
    },
    {
      "cell_type": "code",
      "execution_count": 26,
      "metadata": {
        "id": "pwnrEMkq5H5B",
        "colab": {
          "base_uri": "https://localhost:8080/"
        },
        "outputId": "51024334-f0bb-4883-ff5b-e26c5157ac31"
      },
      "outputs": [
        {
          "output_type": "execute_result",
          "data": {
            "text/plain": [
              "28"
            ]
          },
          "metadata": {},
          "execution_count": 26
        }
      ],
      "source": [
        "add(1,2,3,4,5,6,7)"
      ]
    },
    {
      "cell_type": "code",
      "execution_count": null,
      "metadata": {
        "id": "gKgKDu0a5H5E"
      },
      "outputs": [],
      "source": [
        "v = [1,2,3]\n",
        "add(*v)"
      ]
    },
    {
      "cell_type": "code",
      "source": [
        "# numeric 끼리는 연산 가능\n",
        "3.5+10, 10 * False, True * True\n",
        "\n",
        "#numeric과 container는 연산 불가\n",
        "# 10 + [1,2,3]\n",
        "\n",
        "#container는 같은 type끼리만 연산 가능\n",
        "#sequence type : str, tuple, list => +, * 가능\n",
        "print('So' + 'Young', (1,2,3) + (4,5), [1,2] + [3,4,5])\n",
        "\n",
        "#서로 다른 type의 container는 연산 불가\n",
        "# (1,2,3) + [4,5]\n",
        "[4,5].extend((1,2,3))"
      ],
      "metadata": {
        "colab": {
          "base_uri": "https://localhost:8080/"
        },
        "id": "ycju-oxulsVw",
        "outputId": "4d7082e7-d865-4ff2-8c5a-caa2e597b9e9"
      },
      "execution_count": 31,
      "outputs": [
        {
          "output_type": "stream",
          "name": "stdout",
          "text": [
            "SoYoung (1, 2, 3, 4, 5) [1, 2, 3, 4, 5]\n"
          ]
        }
      ]
    },
    {
      "cell_type": "markdown",
      "metadata": {
        "id": "CIhGNAKmi2rN"
      },
      "source": [
        "#### 4-05-02 가변 키워드 매개변수(var-keyword parameter)"
      ]
    },
    {
      "cell_type": "code",
      "execution_count": 32,
      "metadata": {
        "id": "9QsI2yFu5H5H"
      },
      "outputs": [],
      "source": [
        "# var-keyword parameter\n",
        "def printinfo(**args):\n",
        "    print(args)"
      ]
    },
    {
      "cell_type": "code",
      "execution_count": 33,
      "metadata": {
        "id": "q6OZ12045H5J",
        "colab": {
          "base_uri": "https://localhost:8080/"
        },
        "outputId": "43732cc3-7ea8-4d8a-cb71-3fbe79104bb6"
      },
      "outputs": [
        {
          "output_type": "stream",
          "name": "stdout",
          "text": [
            "{'a': 1, 'b': 2}\n"
          ]
        }
      ],
      "source": [
        "printinfo(a=1, b=2)"
      ]
    },
    {
      "cell_type": "code",
      "execution_count": 34,
      "metadata": {
        "id": "IAXewyVS5H5L",
        "colab": {
          "base_uri": "https://localhost:8080/"
        },
        "outputId": "23ce7c1d-c44a-4f97-c950-f29bb031d27e"
      },
      "outputs": [
        {
          "output_type": "stream",
          "name": "stdout",
          "text": [
            "{'aa': 3, 'bb': 4}\n"
          ]
        }
      ],
      "source": [
        "dic = {'aa':3,'bb':4}\n",
        "printinfo(**dic) # aa=3, bb=4"
      ]
    },
    {
      "cell_type": "code",
      "source": [
        "# a : var positional parameter\n",
        "# b, c : keyword only parameter\n",
        "def func(*a, b, c):\n",
        "  return [a,b,c]\n",
        "\n",
        "func(1,2,3,4,5, b=6, c=7)"
      ],
      "metadata": {
        "colab": {
          "base_uri": "https://localhost:8080/"
        },
        "id": "2S4MxiXiod2G",
        "outputId": "a690681f-f7df-42b2-e37e-07320bd37992"
      },
      "execution_count": 35,
      "outputs": [
        {
          "output_type": "execute_result",
          "data": {
            "text/plain": [
              "[(1, 2, 3, 4, 5), 6, 7]"
            ]
          },
          "metadata": {},
          "execution_count": 35
        }
      ]
    },
    {
      "cell_type": "code",
      "source": [
        "# a : var positional parameter\n",
        "# b, c : keyword only parameter\n",
        "def func(*a, b=10, c=20):\n",
        "  return [a,b,c]\n",
        "\n",
        "func()"
      ],
      "metadata": {
        "colab": {
          "base_uri": "https://localhost:8080/"
        },
        "id": "9TJRSnOzo9F3",
        "outputId": "b53d3e4b-d12f-4146-df98-c0a10db6ee07"
      },
      "execution_count": 36,
      "outputs": [
        {
          "output_type": "execute_result",
          "data": {
            "text/plain": [
              "[(), 10, 20]"
            ]
          },
          "metadata": {},
          "execution_count": 36
        }
      ]
    },
    {
      "cell_type": "markdown",
      "metadata": {
        "id": "UEVddf5a5H5O"
      },
      "source": [
        "### 4-06 함수 연습문제"
      ]
    },
    {
      "cell_type": "code",
      "execution_count": 37,
      "metadata": {
        "id": "NkUMaOdw5H5O"
      },
      "outputs": [],
      "source": [
        "# 알파벳 문자열을 인수로 넣으면 문자열을 모두 대문자로 바꾸는 함수를 구현하세요\n",
        "def alpha(string):\n",
        "    # code here\n",
        "    return string.upper()\n",
        "\n",
        "    "
      ]
    },
    {
      "cell_type": "code",
      "execution_count": 39,
      "metadata": {
        "id": "aHQ9_wDy5H5Q",
        "colab": {
          "base_uri": "https://localhost:8080/",
          "height": 35
        },
        "outputId": "df3d1166-c683-4961-db77-5a4133eaa933"
      },
      "outputs": [
        {
          "output_type": "execute_result",
          "data": {
            "text/plain": [
              "'ABCDE'"
            ],
            "application/vnd.google.colaboratory.intrinsic+json": {
              "type": "string"
            }
          },
          "metadata": {},
          "execution_count": 39
        }
      ],
      "source": [
        "alpha(\"abcde\")"
      ]
    },
    {
      "cell_type": "code",
      "execution_count": 51,
      "metadata": {
        "id": "s5c1rBFl5H5S"
      },
      "outputs": [],
      "source": [
        "# def calc_many(choice, *args) 함수에서 choice가 sum 이면 합을 구해서 리턴하고, \n",
        "# choice가 mul 이면 곱한 결과를 리턴하는 함수를 구현하세요.\n",
        "def calc_many(choice, *args):\n",
        "    #code here\n",
        "    if choice == 'sum':\n",
        "      ans = 0\n",
        "      for i in args:\n",
        "        ans+=i\n",
        "    elif choice=='mul':\n",
        "      ans=1\n",
        "      for i in args:\n",
        "        ans*=i\n",
        "    return ans"
      ]
    },
    {
      "cell_type": "code",
      "execution_count": 52,
      "metadata": {
        "id": "bJxp_qDk5H5U",
        "colab": {
          "base_uri": "https://localhost:8080/"
        },
        "outputId": "52d5af32-cf1c-4577-d143-fa08dddb2554"
      },
      "outputs": [
        {
          "output_type": "execute_result",
          "data": {
            "text/plain": [
              "15"
            ]
          },
          "metadata": {},
          "execution_count": 52
        }
      ],
      "source": [
        "calc_many(\"sum\", 1,2,3,4,5)"
      ]
    },
    {
      "cell_type": "code",
      "execution_count": 53,
      "metadata": {
        "id": "E4aVDNpS5H5W",
        "colab": {
          "base_uri": "https://localhost:8080/"
        },
        "outputId": "5c44cc73-7022-4625-f8d3-3fb4121161eb"
      },
      "outputs": [
        {
          "output_type": "execute_result",
          "data": {
            "text/plain": [
              "6"
            ]
          },
          "metadata": {},
          "execution_count": 53
        }
      ],
      "source": [
        "calc_many(\"mul\", 1,2,3)"
      ]
    },
    {
      "cell_type": "markdown",
      "metadata": {
        "id": "3uapF-Dz5H5Z"
      },
      "source": [
        "### 4-07 함수 설명문"
      ]
    },
    {
      "cell_type": "code",
      "execution_count": null,
      "metadata": {
        "id": "cSsbT0X75H5a"
      },
      "outputs": [],
      "source": [
        "def add(*args):\n",
        "    \"\"\" 매개변수의 총합을 반환\n",
        "    매개변수 :\n",
        "        args : 숫자만 입력\n",
        "    반환:\n",
        "        매개변수의 총합\n",
        "    \"\"\"\n",
        "    tot = 0\n",
        "    for i in args:\n",
        "        tot += i\n",
        "    return tot"
      ]
    },
    {
      "cell_type": "code",
      "execution_count": null,
      "metadata": {
        "id": "oX6_fqOs5H5c"
      },
      "outputs": [],
      "source": [
        "print(add.__doc__)"
      ]
    },
    {
      "cell_type": "markdown",
      "metadata": {
        "id": "iTyL0-o85H5k"
      },
      "source": [
        "### 4-08 lambda 함수식\n",
        "- 이름 없이 정의된 함수\n",
        "- 일반적인 함수는 def 키워드를 사용하여 정의, 익명함수는lambda 키워드를 사용하여 정의\n",
        "        lambda arguments : expression\n",
        "- 여러 개의 인자를 가질 수 있지만 표현식은 단 하나만 가짐\n",
        "- 람다 함수는 일반적으로 filter(), map()과 같은 내장 함수와 함께 사용"
      ]
    },
    {
      "cell_type": "code",
      "execution_count": null,
      "metadata": {
        "id": "7mnspqiG5H5m"
      },
      "outputs": [],
      "source": [
        "result = lambda x : x*2\n",
        "result(5)"
      ]
    },
    {
      "cell_type": "code",
      "execution_count": null,
      "metadata": {
        "colab": {
          "base_uri": "https://localhost:8080/",
          "height": 36
        },
        "id": "aeDU9MqWZfKq",
        "outputId": "6ebab6e9-99ba-4625-8e6d-ddab70d5ce8a"
      },
      "outputs": [
        {
          "data": {
            "text/plain": [
              "['Mexico', 'France', 'USA', 'Korea']"
            ]
          },
          "execution_count": 5,
          "metadata": {
            "tags": []
          },
          "output_type": "execute_result"
        }
      ],
      "source": [
        "a = [\"USA\", \"Mexico\", \"Korea\", \"France\"]\n",
        "a.sort(key=lambda x : len(x)%2)\n",
        "a"
      ]
    },
    {
      "cell_type": "markdown",
      "metadata": {
        "id": "04s8GOSnbBBO"
      },
      "source": [
        "### 4-9 내장함수/외장함수"
      ]
    },
    {
      "cell_type": "markdown",
      "metadata": {
        "id": "KsdmHfwEcGDy"
      },
      "source": [
        "#### 4-09-01 내장함수-dir,id, len\n",
        "- 내장 함수는 dir(__builtin__)를 통해 조회가 가능\n",
        "- dir() : 객체가 가지고 있는 변수나 함수를 보여줌\n",
        "- 예) dir(‘hello’)\n",
        "- id(object) : 객체를 입력 받아 객체의 고유 주소 값을 리턴\n",
        "- len(s) : 입력된 s의 길이를 리턴"
      ]
    },
    {
      "cell_type": "code",
      "execution_count": null,
      "metadata": {
        "id": "5xEA8ztLa6Vc"
      },
      "outputs": [],
      "source": [
        "dir(10)"
      ]
    },
    {
      "cell_type": "code",
      "execution_count": null,
      "metadata": {
        "id": "I1zzVgfQbQnU"
      },
      "outputs": [],
      "source": [
        "id(10)"
      ]
    },
    {
      "cell_type": "code",
      "execution_count": null,
      "metadata": {
        "id": "sgMV7MD8bTHT"
      },
      "outputs": [],
      "source": [
        "len('Hello')"
      ]
    },
    {
      "cell_type": "markdown",
      "metadata": {
        "id": "wfENm7vedQUT"
      },
      "source": [
        "#### 4-09-02 내장함수-enumerate"
      ]
    },
    {
      "cell_type": "code",
      "execution_count": null,
      "metadata": {
        "id": "-se9kIAkcalw"
      },
      "outputs": [],
      "source": [
        "# enumerate(iterable, start=0) : 순서가 있는 자료형을 입력으로 받아 인덱스를 포함하는 enumerate 객체 리턴\n",
        "a = ['one', 'two', 'three']\n",
        "list(enumerate(a))"
      ]
    },
    {
      "cell_type": "code",
      "execution_count": null,
      "metadata": {
        "id": "kIW5H5tHcnL_"
      },
      "outputs": [],
      "source": [
        "# 리스트의 요소와 인덱스 끄집어내기\n",
        "# enumerate 함수를 사용하지 않는 방법\n",
        "a = ['one', 'two', 'three']\n",
        "for index in range(len(a)):\n",
        "    print(index)\n",
        "    print(a[index])\n",
        "    print('======')"
      ]
    },
    {
      "cell_type": "code",
      "execution_count": null,
      "metadata": {
        "id": "3hQJ4smic8yy"
      },
      "outputs": [],
      "source": [
        "# enumerate 함수를 사용한 방법\n",
        "a = ['one', 'two', 'three']\n",
        "for index, el in enumerate(a):\n",
        "    print(index)\n",
        "    print(el)\n",
        "    print('======')"
      ]
    },
    {
      "cell_type": "code",
      "execution_count": null,
      "metadata": {
        "id": "EfYzw_OUbHCo"
      },
      "outputs": [],
      "source": [
        "for x in enumerate('ABCDE', start=65):\n",
        "  print(x)"
      ]
    },
    {
      "cell_type": "markdown",
      "metadata": {
        "id": "k7Ct5i7wdJ6l"
      },
      "source": [
        "#### 4-09-03 내장함수-zip"
      ]
    },
    {
      "cell_type": "code",
      "execution_count": null,
      "metadata": {
        "colab": {
          "base_uri": "https://localhost:8080/"
        },
        "id": "tIq-c5g1doO4",
        "outputId": "b6fb708c-13e1-4cd2-fd7a-c366bb6ca575"
      },
      "outputs": [
        {
          "data": {
            "text/plain": [
              "[('one', 'a'), ('two', 'b'), ('three', 'c')]"
            ]
          },
          "execution_count": 43,
          "metadata": {
            "tags": []
          },
          "output_type": "execute_result"
        }
      ],
      "source": [
        "# zip(*iterable) : 동일한 개수로 이루어진 자료형을 묶어 줌\n",
        "a = ['one', 'two', 'three']\n",
        "b = ['a', 'b', 'c']\n",
        "list(zip(a, b))"
      ]
    },
    {
      "cell_type": "code",
      "execution_count": null,
      "metadata": {
        "id": "54R7C7Sydx4_"
      },
      "outputs": [],
      "source": [
        "# 두 리스트의 요소 끄집어내기\n",
        "# zip 함수 사용하지 않는 방법\n",
        "for i in range(len(a)):\n",
        "    print(a[i])\n",
        "    print(b[i])\n",
        "    print('======')"
      ]
    },
    {
      "cell_type": "code",
      "execution_count": null,
      "metadata": {
        "id": "i5x5IE-Ld72Z"
      },
      "outputs": [],
      "source": [
        "# 두 리스트의 요소 끄집어내기\n",
        "# zip 함수 사용한 방법\n",
        "for el1, el2 in zip(a, b)):\n",
        "    print(el1)\n",
        "    print(el2)\n",
        "    print('======')"
      ]
    },
    {
      "cell_type": "markdown",
      "metadata": {
        "id": "pqnlFrl2eRQ5"
      },
      "source": [
        "#### 4-09-04 내장함수-map"
      ]
    },
    {
      "cell_type": "code",
      "execution_count": null,
      "metadata": {
        "id": "BVsuBH3JbUv_"
      },
      "outputs": [],
      "source": [
        "# map(func, *iterable) : 입력 받은 자료형의 각 요소가 함수 func에 의해 수행된 결과를 묶어서 반환\n",
        "a = [1, 2, 3, 4]\n",
        "new_a = list(map(lambda x : x**2, a))\n",
        "new_a"
      ]
    },
    {
      "cell_type": "code",
      "execution_count": null,
      "metadata": {
        "id": "Gk7x62S_e46h"
      },
      "outputs": [],
      "source": [
        "for x in map(int, ['1', '2', '3']):\n",
        "  print(type(x), x)"
      ]
    },
    {
      "cell_type": "markdown",
      "metadata": {
        "id": "AMRlFHOjfGhS"
      },
      "source": [
        "#### 4-09-05 내장함수-filter"
      ]
    },
    {
      "cell_type": "code",
      "execution_count": null,
      "metadata": {
        "id": "7xLarmnvfJbs"
      },
      "outputs": [],
      "source": [
        "# filter(func, iterable) : func 함수에서 True로 return한 값들만 묶어서 반환\n",
        "a = list(range(1, 11))\n",
        "new_a = list(filter(lambda x : x%2==0, a))\n",
        "new_a"
      ]
    },
    {
      "cell_type": "markdown",
      "metadata": {
        "id": "aLWbS6oD5H5s"
      },
      "source": [
        "## 5.모듈"
      ]
    },
    {
      "cell_type": "markdown",
      "metadata": {
        "id": "chBSzb4RfzKL"
      },
      "source": [
        "### 5-01 모듈 사용하기\n",
        "- 재사용 하고자 하는 변수, 함수, 클래스를 파일에 저장하여 다른 Python 파일에서 호출하여 사용\n",
        "- 파일명이 myModule.py이면 모듈명은 myModule 임\n",
        "- 큰 프로그램을 작고 관리하기 쉬운 파일로 나눌 수 있으며, 코드 재사용성이 높아짐\n",
        "- 자주 사용하는 함수를 정의하고, 이를 다른 파일에서 import 해서 사용\n",
        "- 현재 Python 3.x 버전에서는 대략 200개가 넘는 모듈을 지원\n",
        "   - 문자열(string), 날짜(date), 시간(time), 십진법(decimal), 랜덤(random)\n",
        "   - 파일(file), os, sqlite3, sys, xml, email, http 등"
      ]
    },
    {
      "cell_type": "markdown",
      "metadata": {
        "id": "YcrlIRotgHCW"
      },
      "source": [
        "- 모듈을 사용하는 이유\n",
        "   - 코드의 재사용으로 인한 유지보수성을높임\n",
        "   - 코드를 namespace로 구분하고 관리\n",
        "   - 복잡하고 어려운 기능을 포함하는 프로그램을 쉽게 구현\n"
      ]
    },
    {
      "cell_type": "code",
      "execution_count": null,
      "metadata": {
        "id": "yMmY4U_J5H5v"
      },
      "outputs": [],
      "source": [
        "import math\n",
        "print(math.pi)"
      ]
    },
    {
      "cell_type": "code",
      "execution_count": null,
      "metadata": {
        "id": "szh6jati5H5x"
      },
      "outputs": [],
      "source": [
        "from math import pi\n",
        "print(pi)"
      ]
    },
    {
      "cell_type": "code",
      "execution_count": null,
      "metadata": {
        "id": "wcj4hRbH5H50"
      },
      "outputs": [],
      "source": [
        "# dir() 함수를 이용하여 모듈에 구조(함수, 변수) 확인 가능\n",
        "import math\n",
        "print(dir(math))"
      ]
    },
    {
      "cell_type": "markdown",
      "metadata": {
        "id": "IXFs3-QcD3TP"
      },
      "source": [
        "### 5-02 모듈 로딩하기\n",
        "- numpy 라이브러리 import 예"
      ]
    },
    {
      "cell_type": "code",
      "execution_count": null,
      "metadata": {
        "id": "DuRyilZxEA9U"
      },
      "outputs": [],
      "source": [
        "# numpy 라이브러리를 import, 이름을 numpy로 사용\n",
        "\n",
        "print(numpy.nan)"
      ]
    },
    {
      "cell_type": "code",
      "execution_count": null,
      "metadata": {
        "id": "m_utF9u4ELG5"
      },
      "outputs": [],
      "source": [
        "# numpy 라이브러리를 import, 이름을 np로 사용 (numpy라는 이름은 사용하지 않음)\n",
        "\n",
        "print(np.nan)"
      ]
    },
    {
      "cell_type": "code",
      "execution_count": null,
      "metadata": {
        "id": "wIJye_CJET1W"
      },
      "outputs": [],
      "source": [
        "# numpy 라이브러리 내의 random 모듈만 import, 이름을 random으로 사용\n",
        "# numpy에 포함된 다른 속성, 함수 사용 불가\n",
        "\n",
        "print(random.randint(1, 10))"
      ]
    },
    {
      "cell_type": "code",
      "execution_count": null,
      "metadata": {
        "id": "eLoz3ALYEkis"
      },
      "outputs": [],
      "source": [
        "# numpy 모듈내의 random 모듈만 import, 이름을 rd로 사용\n",
        "\n",
        "print(rd.randint(1, 10))"
      ]
    },
    {
      "cell_type": "code",
      "execution_count": null,
      "metadata": {
        "id": "eplsIOw2EsIj"
      },
      "outputs": [],
      "source": [
        "# numpy 라이브러리 내의 모든 이름을 import \n",
        "  \n",
        "print(random.randint(1, 10), nan)"
      ]
    },
    {
      "cell_type": "markdown",
      "metadata": {
        "id": "AH0vsriklCQV"
      },
      "source": [
        "### 5-03 모듈의 경로\n",
        "- 모듈의 경로\n",
        "  - 환경변수에 저장되어 있는 디렉토리 검색\n",
        "  - 경로 밖의 모듈은 import 불가\n",
        "- 모듈 경로 탐색 순서\n",
        "  - 프로그램이 실행된 디렉토리\n",
        "  - PYTHONPATH 환경 변수에 등록된 위치\n",
        "  - 표준 라이브러리 디렉토리\n"
      ]
    },
    {
      "cell_type": "code",
      "execution_count": null,
      "metadata": {
        "id": "NNhZnPgGlRjS"
      },
      "outputs": [],
      "source": [
        "import sys\n",
        "sys.path"
      ]
    },
    {
      "cell_type": "markdown",
      "metadata": {
        "id": "K3tM0Ax4gpIA"
      },
      "source": [
        "### 5-04 모듈 만들기"
      ]
    },
    {
      "cell_type": "code",
      "execution_count": null,
      "metadata": {
        "colab": {
          "base_uri": "https://localhost:8080/",
          "height": 36
        },
        "id": "ZbyQ6KYkna6b",
        "outputId": "4d01dbf7-2fc8-434c-b9ba-086c162ef799"
      },
      "outputs": [
        {
          "name": "stdout",
          "output_type": "stream",
          "text": [
            "Writing my_calc.py\n"
          ]
        }
      ],
      "source": [
        "%%writefile my_calc.py\n",
        "myname = \"홍길동\"\n",
        "\n",
        "def plus(a, b):\n",
        "  return a + b\n",
        "\n",
        "def minus(a, b):\n",
        "  return a-b\n",
        "\n",
        "print('name=', __name__)"
      ]
    },
    {
      "cell_type": "code",
      "execution_count": null,
      "metadata": {
        "id": "Cw3o1q17oKVe"
      },
      "outputs": [],
      "source": [
        "import my_calc\n",
        "\n",
        "print(my_calc.plus(3,4))\n",
        "print(my_calc.minus(3,4))\n",
        "print(my_calc.myname)\n",
        "print(my_calc.__name__)"
      ]
    },
    {
      "cell_type": "markdown",
      "metadata": {
        "id": "PKtk21YAmTFB"
      },
      "source": [
        "### 5-05 패키지(package)\n",
        "- 효율적 관리를 위해 같은 성격을 가진 파일을 모아 같은 디렉토리에 저장\n",
        "- 프로그램이 더 많은 모듈을 가지면 유사한 모듈을 한 패키지에, 다른 모듈은 다른 패키지에 배치\n",
        "- 디렉토리에 __init__.py라는 파일이 있으면 파이썬은 그 폴더를 패키지로 간주\n",
        "- 점(.) 연산자를 사용하여 패키지에서 모듈 import 가능\n",
        "- 예) import myPackage.Util"
      ]
    },
    {
      "cell_type": "code",
      "execution_count": null,
      "metadata": {
        "id": "K9VPigaTg2bm"
      },
      "outputs": [],
      "source": [
        "%mkdir mypackage"
      ]
    },
    {
      "cell_type": "code",
      "execution_count": null,
      "metadata": {
        "id": "eGDKZ0fug2TH"
      },
      "outputs": [],
      "source": [
        "%%writefile mypackage/my_cal1.py\n",
        "def plus(a, b):\n",
        "  return 100 + a + b"
      ]
    },
    {
      "cell_type": "code",
      "execution_count": null,
      "metadata": {
        "id": "IcKUQG_ig8Fw"
      },
      "outputs": [],
      "source": [
        "%%writefile mypackage/my_cal2.py\n",
        "def minus(a, b):\n",
        "  return 100-a-b"
      ]
    },
    {
      "cell_type": "code",
      "execution_count": null,
      "metadata": {
        "id": "ep0SDw-kg79W"
      },
      "outputs": [],
      "source": [
        "# from 패키지명 import 모듈이름\n",
        "from mypackage import my_cal1 \n",
        "from mypackage import my_cal2\n",
        "print(my_cal1.plus(1,2))\n",
        "print(my_cal2.minus(1,2))"
      ]
    },
    {
      "cell_type": "code",
      "execution_count": null,
      "metadata": {
        "id": "G3q2plPng7wI"
      },
      "outputs": [],
      "source": [
        "# from 패키지명.모듈명  import 함수명\n",
        "from mypackage.my_cal1 import plus \n",
        "from mypackage.my_cal2 import minus\n",
        "\n",
        "print(plus(1, 2))\n",
        "print(minus(1, 2))"
      ]
    },
    {
      "cell_type": "markdown",
      "metadata": {
        "id": "qyCmud4Hm9Sz"
      },
      "source": [
        "### 5-06 특수변수들\n",
        "- __name__ : 모듈명 출력\n",
        "   - 직접 실행하면 __main__, 참조되면 해당 파일명\n",
        "- __file__ : 모듈이 있는 절대 경로\n",
        "   - 모듈이 있는 파일의 경로 정보 추출\n",
        "- __doc__ : 모듈에 대한 설명\n",
        "   - 모듈의 이용방법에 대한 설명을 얻을 때   "
      ]
    },
    {
      "cell_type": "code",
      "execution_count": null,
      "metadata": {
        "colab": {
          "base_uri": "https://localhost:8080/"
        },
        "id": "w_V63y93ny-E",
        "outputId": "b95d7fde-cfd4-4c76-c967-5d7ceba45ee9"
      },
      "outputs": [
        {
          "name": "stdout",
          "output_type": "stream",
          "text": [
            "Writing my_calc.py\n"
          ]
        }
      ],
      "source": [
        "%%writefile my_calc.py\n",
        "myname = \"홍길동\"\n",
        "\n",
        "def plus(a, b):\n",
        "  return a + b\n",
        "\n",
        "def minus(a, b):\n",
        "  return a-b\n",
        "\n",
        "print('name=', __name__)\n",
        "\n",
        "if __name__ == \"__main__\":\n",
        "    print(\"3+4=\" + str(plus(3, 4)))"
      ]
    },
    {
      "cell_type": "code",
      "execution_count": null,
      "metadata": {
        "colab": {
          "base_uri": "https://localhost:8080/"
        },
        "id": "jqzH0KHSoCO9",
        "outputId": "51514da6-fb7f-4308-f7a6-fdb4dfbccb7a"
      },
      "outputs": [
        {
          "name": "stdout",
          "output_type": "stream",
          "text": [
            "name= my_calc\n",
            "my_calc\n"
          ]
        }
      ],
      "source": [
        "import my_calc\n",
        "print(my_calc.__name__)"
      ]
    }
  ],
  "metadata": {
    "colab": {
      "collapsed_sections": [
        "Sv_MebByVUyh",
        "zqnOrSUM5H4w"
      ],
      "name": "KB_Python_PART2_LAB.ipynb",
      "provenance": [],
      "include_colab_link": true
    },
    "kernelspec": {
      "display_name": "Python 3 (ipykernel)",
      "language": "python",
      "name": "python3"
    },
    "language_info": {
      "codemirror_mode": {
        "name": "ipython",
        "version": 3
      },
      "file_extension": ".py",
      "mimetype": "text/x-python",
      "name": "python",
      "nbconvert_exporter": "python",
      "pygments_lexer": "ipython3",
      "version": "3.9.13"
    }
  },
  "nbformat": 4,
  "nbformat_minor": 0
}