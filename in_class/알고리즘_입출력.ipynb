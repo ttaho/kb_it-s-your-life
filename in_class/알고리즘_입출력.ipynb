{
  "nbformat": 4,
  "nbformat_minor": 0,
  "metadata": {
    "colab": {
      "name": "알고리즘_입출력.ipynb",
      "provenance": [],
      "authorship_tag": "ABX9TyPcnzKgHxP9XimH3sZVnfqH",
      "include_colab_link": true
    },
    "kernelspec": {
      "name": "python3",
      "display_name": "Python 3"
    },
    "language_info": {
      "name": "python"
    }
  },
  "cells": [
    {
      "cell_type": "markdown",
      "metadata": {
        "id": "view-in-github",
        "colab_type": "text"
      },
      "source": [
        "<a href=\"https://colab.research.google.com/github/ttaho/kb_it-s-your-life/blob/main/in_class/%EC%95%8C%EA%B3%A0%EB%A6%AC%EC%A6%98_%EC%9E%85%EC%B6%9C%EB%A0%A5.ipynb\" target=\"_parent\"><img src=\"https://colab.research.google.com/assets/colab-badge.svg\" alt=\"Open In Colab\"/></a>"
      ]
    },
    {
      "cell_type": "markdown",
      "source": [
        "## 1.출력연습\n",
        "###1. % format, f=string\n",
        "###str% (객체...) : 문자열을 생성하는 연산자\n",
        "###str.format() : 문자열을 생성하는 매서드\n",
        "###f-string: f 문자열의 종류"
      ],
      "metadata": {
        "id": "KaTuPmgnOWXs"
      }
    },
    {
      "cell_type": "code",
      "execution_count": 29,
      "metadata": {
        "colab": {
          "base_uri": "https://localhost:8080/"
        },
        "id": "3bnZPpL-Ifxd",
        "outputId": "7cf46946-0ddd-4fe1-b6cf-48fca65cd46d"
      },
      "outputs": [
        {
          "output_type": "stream",
          "name": "stdout",
          "text": [
            "1500\n",
            "사과가 1500원 입니다.\n",
            "사과가 1,500원 입니다.\n",
            "사과가 1,500원 입니다.\n"
          ]
        }
      ],
      "source": [
        "\n",
        "price = 1500\n",
        "print(price)\n",
        "print('사과가 %d원 입니다.'% (price))\n",
        "print('사과가 {:,}원 입니다.'.format(price))\n",
        "print(f'사과가 {price:,}원 입니다.')"
      ]
    },
    {
      "cell_type": "code",
      "source": [
        "# 3 * 4 = 12\n",
        "A, B = 3, 4\n",
        "\n",
        "print('%d * %d = %d' %(A, B, A*B))\n",
        "print('{} * {} = {}' .format(A, B, A*B))\n",
        "print(f'{A} * {B} = {A*B}')"
      ],
      "metadata": {
        "colab": {
          "base_uri": "https://localhost:8080/"
        },
        "id": "RWxNI5NWK-oL",
        "outputId": "b3469292-074e-4501-f620-2079c6796865"
      },
      "execution_count": 16,
      "outputs": [
        {
          "output_type": "stream",
          "name": "stdout",
          "text": [
            "3 * 4 = 12\n",
            "3 * 4 = 12\n",
            "3 * 4 = 12\n"
          ]
        }
      ]
    },
    {
      "cell_type": "code",
      "source": [
        "price = 123.4567\n",
        "\n",
        "print('사과가 %.2f 입니다.'% (price))\n",
        "print('사과가 {:.2f} 입니다.'.format(price))\n",
        "print(f'사과가 {price:.2f} 입니다.')\n",
        "print('사과가 {} 입니다.'.format(price))\n",
        "print(f'사과가 {price} 입니다.')"
      ],
      "metadata": {
        "colab": {
          "base_uri": "https://localhost:8080/"
        },
        "id": "BY56MfRhL1lt",
        "outputId": "9c582b01-1c5f-405b-dd57-43a19fac85de"
      },
      "execution_count": 22,
      "outputs": [
        {
          "output_type": "stream",
          "name": "stdout",
          "text": [
            "사과가 123.46 입니다.\n",
            "사과가 123.46 입니다.\n",
            "사과가 123.46 입니다.\n",
            "사과가 123.4567 입니다.\n",
            "사과가 123.4567 입니다.\n"
          ]
        }
      ]
    },
    {
      "cell_type": "code",
      "source": [
        "#str.format 을 사용한 unpack\n",
        "data = ['사과', 1000, '빨강']\n",
        "data2={'name':'사과',\n",
        "       'price':1000,\n",
        "       'color':'빨강'}\n",
        "\n",
        "print('{}가 1개 {}원 이며, 색은 {}입니다.'.format(data[0],data[1],data[2]))\n",
        "print('{}가 1개 {}원 이며, 색은 {}입니다.'.format(*data))\n",
        "print('{2}색 {0}가 1개 {1}원 입니다.'.format(*data))\n",
        "\n",
        "print('{color}색 {name}가 1개 {price}원 입니다.'.format(**data2))"
      ],
      "metadata": {
        "colab": {
          "base_uri": "https://localhost:8080/"
        },
        "id": "srFSWXRlMuMl",
        "outputId": "39de0c79-f1bd-4bf0-b8e7-b3876c688613"
      },
      "execution_count": 28,
      "outputs": [
        {
          "output_type": "stream",
          "name": "stdout",
          "text": [
            "사과가 1개 1000원 이며, 색은 빨강입니다.\n",
            "사과가 1개 1000원 이며, 색은 빨강입니다.\n",
            "빨강색 사과가 1개 1000원 입니다.\n",
            "빨강색 사과가 1개 1000원 입니다.\n"
          ]
        }
      ]
    },
    {
      "cell_type": "markdown",
      "source": [
        "# 2. 입력연습"
      ],
      "metadata": {
        "id": "Qz1dSA3nOjLl"
      }
    },
    {
      "cell_type": "code",
      "source": [
        "#한 개의 숫자 입력\n",
        "num = int(input())\n",
        "print(type(num), num)"
      ],
      "metadata": {
        "colab": {
          "base_uri": "https://localhost:8080/"
        },
        "id": "oiZ5BHotOl7h",
        "outputId": "de445ca6-8026-4ba4-8890-12278a994831"
      },
      "execution_count": 30,
      "outputs": [
        {
          "output_type": "stream",
          "name": "stdout",
          "text": [
            "123\n",
            "<class 'int'> 123\n"
          ]
        }
      ]
    },
    {
      "cell_type": "code",
      "source": [
        "# 여러 개의 숫자 입력\n",
        "# map(func, *literable)"
      ],
      "metadata": {
        "id": "nyzDs1Y7Oved"
      },
      "execution_count": null,
      "outputs": []
    },
    {
      "cell_type": "code",
      "source": [
        "nums=input()\n",
        "nums"
      ],
      "metadata": {
        "colab": {
          "base_uri": "https://localhost:8080/",
          "height": 53
        },
        "id": "-j_KXk1rPDkW",
        "outputId": "57052a17-0d41-428f-9f4b-28bdaa85d116"
      },
      "execution_count": 31,
      "outputs": [
        {
          "name": "stdout",
          "output_type": "stream",
          "text": [
            "1 2 3 4 5\n"
          ]
        },
        {
          "output_type": "execute_result",
          "data": {
            "text/plain": [
              "'1 2 3 4 5'"
            ],
            "application/vnd.google.colaboratory.intrinsic+json": {
              "type": "string"
            }
          },
          "metadata": {},
          "execution_count": 31
        }
      ]
    },
    {
      "cell_type": "code",
      "source": [
        "nums=input().split()  #whitespace을 기준으로 문자열을 쪼개 list를 생성\n",
        "nums"
      ],
      "metadata": {
        "colab": {
          "base_uri": "https://localhost:8080/"
        },
        "id": "yabH3NKvPJQ4",
        "outputId": "c4e53f9f-3012-4cd2-a9d5-8db9d7efbe7a"
      },
      "execution_count": 34,
      "outputs": [
        {
          "name": "stdout",
          "output_type": "stream",
          "text": [
            "1 2 3 4 5\n"
          ]
        },
        {
          "output_type": "execute_result",
          "data": {
            "text/plain": [
              "['1', '2', '3', '4', '5']"
            ]
          },
          "metadata": {},
          "execution_count": 34
        }
      ]
    },
    {
      "cell_type": "code",
      "source": [
        "date = input().split('-')\n",
        "date"
      ],
      "metadata": {
        "colab": {
          "base_uri": "https://localhost:8080/"
        },
        "id": "Az1PUQYDPeRA",
        "outputId": "3a7dd6d5-6210-4aff-e25b-817efd5fa4ca"
      },
      "execution_count": 36,
      "outputs": [
        {
          "name": "stdout",
          "output_type": "stream",
          "text": [
            "2022-08-02\n"
          ]
        },
        {
          "output_type": "execute_result",
          "data": {
            "text/plain": [
              "['2022', '08', '02']"
            ]
          },
          "metadata": {},
          "execution_count": 36
        }
      ]
    },
    {
      "cell_type": "code",
      "source": [
        "# 10:49:20\n",
        "time = input().split(':')\n",
        "display(time, ':'.join(time))"
      ],
      "metadata": {
        "colab": {
          "base_uri": "https://localhost:8080/",
          "height": 72
        },
        "id": "QSldjx1QPnzr",
        "outputId": "5c5b1466-2bbd-4500-aeb4-81c9cc64e687"
      },
      "execution_count": 46,
      "outputs": [
        {
          "name": "stdout",
          "output_type": "stream",
          "text": [
            "10:49:20\n"
          ]
        },
        {
          "output_type": "display_data",
          "data": {
            "text/plain": [
              "['10', '49', '20']"
            ]
          },
          "metadata": {}
        },
        {
          "output_type": "display_data",
          "data": {
            "text/plain": [
              "'10:49:20'"
            ],
            "application/vnd.google.colaboratory.intrinsic+json": {
              "type": "string"
            }
          },
          "metadata": {}
        }
      ]
    },
    {
      "cell_type": "code",
      "source": [
        "A='10:49:20'\n",
        "H,M,S=A.split(':')\n",
        "H,M,S"
      ],
      "metadata": {
        "colab": {
          "base_uri": "https://localhost:8080/"
        },
        "id": "vo6KnbRaVLJv",
        "outputId": "06978a8a-9381-4f49-9f9d-1b40352c6cb1"
      },
      "execution_count": 47,
      "outputs": [
        {
          "output_type": "execute_result",
          "data": {
            "text/plain": [
              "('10', '49', '20')"
            ]
          },
          "metadata": {},
          "execution_count": 47
        }
      ]
    },
    {
      "cell_type": "markdown",
      "source": [
        "여러개 문자열을 숫자로 변경"
      ],
      "metadata": {
        "id": "CG1RFF7-ViZZ"
      }
    },
    {
      "cell_type": "code",
      "source": [
        "#10:49:20\n",
        "list(map(int, input().split(':')))\n"
      ],
      "metadata": {
        "colab": {
          "base_uri": "https://localhost:8080/"
        },
        "id": "8CQH_FrFVYJp",
        "outputId": "f04a06a4-59be-4068-e186-d235a02836f1"
      },
      "execution_count": 50,
      "outputs": [
        {
          "name": "stdout",
          "output_type": "stream",
          "text": [
            "10:49:20\n"
          ]
        },
        {
          "output_type": "execute_result",
          "data": {
            "text/plain": [
              "[10, 49, 20]"
            ]
          },
          "metadata": {},
          "execution_count": 50
        }
      ]
    },
    {
      "cell_type": "code",
      "source": [
        "arr = list(map(int, input().split()))\n",
        "arr"
      ],
      "metadata": {
        "colab": {
          "base_uri": "https://localhost:8080/"
        },
        "id": "uIDEg_9rV_mg",
        "outputId": "4e4b7358-246d-4261-94a3-828930cf2e07"
      },
      "execution_count": 51,
      "outputs": [
        {
          "name": "stdout",
          "output_type": "stream",
          "text": [
            "1 2 3 4 5\n"
          ]
        },
        {
          "output_type": "execute_result",
          "data": {
            "text/plain": [
              "[1, 2, 3, 4, 5]"
            ]
          },
          "metadata": {},
          "execution_count": 51
        }
      ]
    },
    {
      "cell_type": "code",
      "source": [
        "A=[int(x) for x in input().split()] #comprehension\n",
        "A"
      ],
      "metadata": {
        "colab": {
          "base_uri": "https://localhost:8080/"
        },
        "id": "6bHlK3x1Wg6W",
        "outputId": "e1aa006f-eb9b-4e9f-c3a0-c60bb0ba7a63"
      },
      "execution_count": 55,
      "outputs": [
        {
          "name": "stdout",
          "output_type": "stream",
          "text": [
            "1 2 3 4 5\n"
          ]
        },
        {
          "output_type": "execute_result",
          "data": {
            "text/plain": [
              "[1, 2, 3, 4, 5]"
            ]
          },
          "metadata": {},
          "execution_count": 55
        }
      ]
    },
    {
      "cell_type": "code",
      "source": [
        "A = input().split()\n",
        "for x in A:\n",
        "  display(int(x))"
      ],
      "metadata": {
        "colab": {
          "base_uri": "https://localhost:8080/",
          "height": 108
        },
        "id": "w2TIgwiWWIsG",
        "outputId": "e37a51cc-4363-45a8-e5eb-3aebed4e0ee4"
      },
      "execution_count": 53,
      "outputs": [
        {
          "name": "stdout",
          "output_type": "stream",
          "text": [
            "1 2 3 4\n"
          ]
        },
        {
          "output_type": "display_data",
          "data": {
            "text/plain": [
              "1"
            ]
          },
          "metadata": {}
        },
        {
          "output_type": "display_data",
          "data": {
            "text/plain": [
              "2"
            ]
          },
          "metadata": {}
        },
        {
          "output_type": "display_data",
          "data": {
            "text/plain": [
              "3"
            ]
          },
          "metadata": {}
        },
        {
          "output_type": "display_data",
          "data": {
            "text/plain": [
              "4"
            ]
          },
          "metadata": {}
        }
      ]
    },
    {
      "cell_type": "code",
      "source": [
        "# N*N 형태의 데이터 입력\n",
        "# 1 2 3\n",
        "# 4 5 6\n",
        "# 7 8 9\n",
        "N = 3\n",
        "A=[[int(x) for x in input().split()] for _ in range(N)] #comprehension\n",
        "A"
      ],
      "metadata": {
        "colab": {
          "base_uri": "https://localhost:8080/"
        },
        "id": "E1WerQd8XGJ8",
        "outputId": "19cab4df-ba7c-4a3e-95cb-d88d07d2b575"
      },
      "execution_count": 58,
      "outputs": [
        {
          "name": "stdout",
          "output_type": "stream",
          "text": [
            "1 2 3\n",
            "4 5 6\n",
            "7 8 9\n"
          ]
        },
        {
          "output_type": "execute_result",
          "data": {
            "text/plain": [
              "[[1, 2, 3], [4, 5, 6], [7, 8, 9]]"
            ]
          },
          "metadata": {},
          "execution_count": 58
        }
      ]
    },
    {
      "cell_type": "code",
      "source": [
        "# N*N 형태의 데이터 입력\n",
        "# 1 2 3\n",
        "# 4 5 6\n",
        "# 7 8 9\n",
        "N=4\n",
        "A=[list(map(int, input().split())) for _ in range(N)]\n",
        "A"
      ],
      "metadata": {
        "colab": {
          "base_uri": "https://localhost:8080/"
        },
        "id": "jIFiCZheXpLr",
        "outputId": "4121c9ee-d6ee-49ee-9b94-92c2e7ddff8e"
      },
      "execution_count": 60,
      "outputs": [
        {
          "name": "stdout",
          "output_type": "stream",
          "text": [
            "1 2 3 4\n",
            "5 6 7 8\n",
            "9 10 11 1 2\n",
            "13 14 15 16\n"
          ]
        },
        {
          "output_type": "execute_result",
          "data": {
            "text/plain": [
              "[[1, 2, 3, 4], [5, 6, 7, 8], [9, 10, 11, 1, 2], [13, 14, 15, 16]]"
            ]
          },
          "metadata": {},
          "execution_count": 60
        }
      ]
    },
    {
      "cell_type": "code",
      "source": [
        "import string\n",
        "#dir(string)\n",
        "display(string.whitespace)\n",
        "print(string.whitespace)"
      ],
      "metadata": {
        "colab": {
          "base_uri": "https://localhost:8080/",
          "height": 72
        },
        "id": "AhxnUoHPTd2o",
        "outputId": "a28f7733-c2b6-4624-e3ce-8607033f2e37"
      },
      "execution_count": 41,
      "outputs": [
        {
          "output_type": "display_data",
          "data": {
            "text/plain": [
              "' \\t\\n\\r\\x0b\\x0c'"
            ],
            "application/vnd.google.colaboratory.intrinsic+json": {
              "type": "string"
            }
          },
          "metadata": {}
        },
        {
          "output_type": "stream",
          "name": "stdout",
          "text": [
            " \t\n",
            "\r\u000b\f\n"
          ]
        }
      ]
    },
    {
      "cell_type": "code",
      "source": [
        "A = '       1 \\t\\n2\\r3          4\\n\\n\\n\\n5         '\n",
        "A.split()"
      ],
      "metadata": {
        "colab": {
          "base_uri": "https://localhost:8080/"
        },
        "id": "unUiINUETbxD",
        "outputId": "1d1aa71f-d894-44b2-df70-e3301b2a7db1"
      },
      "execution_count": 43,
      "outputs": [
        {
          "output_type": "execute_result",
          "data": {
            "text/plain": [
              "['1', '2', '3', '4', '5']"
            ]
          },
          "metadata": {},
          "execution_count": 43
        }
      ]
    }
  ]
}